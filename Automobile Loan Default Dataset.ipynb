{
 "cells": [
  {
   "cell_type": "markdown",
   "id": "32f2c4b6",
   "metadata": {},
   "source": [
    "# Let's have a look at the data!"
   ]
  },
  {
   "cell_type": "code",
   "execution_count": 1,
   "id": "e4ca024d",
   "metadata": {},
   "outputs": [],
   "source": [
    "import pandas as pd\n",
    "import numpy as np\n",
    "from sklearn.model_selection import train_test_split\n",
    "from sklearn.pipeline import Pipeline, FunctionTransformer\n",
    "from sklearn.compose import ColumnTransformer, make_column_selector\n",
    "import string\n",
    "from sklearn.preprocessing import OneHotEncoder, StandardScaler\n",
    "from sklearn.impute import SimpleImputer\n",
    "from sklearn.linear_model import LogisticRegression\n",
    "from sklearn.model_selection import cross_val_score\n",
    "from sklearn.metrics import make_scorer, accuracy_score, f1_score\n",
    "from sklearn.metrics import confusion_matrix\n",
    "import matplotlib.pyplot as plt\n",
    "import seaborn as sns\n",
    "from sklearn.model_selection import StratifiedKFold\n",
    "from sklearn.metrics import ConfusionMatrixDisplay\n",
    "import matplotlib.pyplot as plt\n",
    "import seaborn as sns\n",
    "from sklearn.metrics import PrecisionRecallDisplay, precision_recall_curve\n",
    "from sklearn.ensemble import RandomForestClassifier\n",
    "from sklearn.calibration import CalibratedClassifierCV, CalibrationDisplay, calibration_curve\n",
    "from sklearn.calibration import CalibratedClassifierCV, CalibrationDisplay, calibration_curve\n",
    "from imblearn.over_sampling import SMOTE\n",
    "from imblearn.pipeline import Pipeline as ImbPipeline\n",
    "from imblearn.over_sampling import SMOTE\n",
    "from sklearn.calibration import CalibratedClassifierCV\n",
    "from sklearn.ensemble import RandomForestClassifier\n",
    "from sklearn.metrics import classification_report\n"
   ]
  },
  {
   "cell_type": "code",
   "execution_count": 2,
   "id": "37c879eb",
   "metadata": {
    "scrolled": true
   },
   "outputs": [
    {
     "name": "stderr",
     "output_type": "stream",
     "text": [
      "/tmp/ipykernel_61211/4258980842.py:3: DtypeWarning: Columns (1,7,8,16,17,18,19,20,35) have mixed types. Specify dtype option on import or set low_memory=False.\n",
      "  data = pd.read_csv(\"data/Train_Dataset.csv\")\n"
     ]
    },
    {
     "data": {
      "text/html": [
       "<div>\n",
       "<style scoped>\n",
       "    .dataframe tbody tr th:only-of-type {\n",
       "        vertical-align: middle;\n",
       "    }\n",
       "\n",
       "    .dataframe tbody tr th {\n",
       "        vertical-align: top;\n",
       "    }\n",
       "\n",
       "    .dataframe thead th {\n",
       "        text-align: right;\n",
       "    }\n",
       "</style>\n",
       "<table border=\"1\" class=\"dataframe\">\n",
       "  <thead>\n",
       "    <tr style=\"text-align: right;\">\n",
       "      <th></th>\n",
       "      <th>ID</th>\n",
       "      <th>Client_Income</th>\n",
       "      <th>Car_Owned</th>\n",
       "      <th>Bike_Owned</th>\n",
       "      <th>Active_Loan</th>\n",
       "      <th>House_Own</th>\n",
       "      <th>Child_Count</th>\n",
       "      <th>Credit_Amount</th>\n",
       "      <th>Loan_Annuity</th>\n",
       "      <th>Accompany_Client</th>\n",
       "      <th>Client_Income_Type</th>\n",
       "      <th>Client_Education</th>\n",
       "      <th>Client_Marital_Status</th>\n",
       "      <th>Client_Gender</th>\n",
       "      <th>Loan_Contract_Type</th>\n",
       "      <th>Client_Housing_Type</th>\n",
       "      <th>Population_Region_Relative</th>\n",
       "      <th>Age_Days</th>\n",
       "      <th>Employed_Days</th>\n",
       "      <th>Registration_Days</th>\n",
       "      <th>ID_Days</th>\n",
       "      <th>Own_House_Age</th>\n",
       "      <th>Mobile_Tag</th>\n",
       "      <th>Homephone_Tag</th>\n",
       "      <th>Workphone_Working</th>\n",
       "      <th>Client_Occupation</th>\n",
       "      <th>Client_Family_Members</th>\n",
       "      <th>Cleint_City_Rating</th>\n",
       "      <th>Application_Process_Day</th>\n",
       "      <th>Application_Process_Hour</th>\n",
       "      <th>Client_Permanent_Match_Tag</th>\n",
       "      <th>Client_Contact_Work_Tag</th>\n",
       "      <th>Type_Organization</th>\n",
       "      <th>Score_Source_1</th>\n",
       "      <th>Score_Source_2</th>\n",
       "      <th>Score_Source_3</th>\n",
       "      <th>Social_Circle_Default</th>\n",
       "      <th>Phone_Change</th>\n",
       "      <th>Credit_Bureau</th>\n",
       "      <th>Default</th>\n",
       "    </tr>\n",
       "  </thead>\n",
       "  <tbody>\n",
       "    <tr>\n",
       "      <th>0</th>\n",
       "      <td>12142509</td>\n",
       "      <td>6750</td>\n",
       "      <td>0.0</td>\n",
       "      <td>0.0</td>\n",
       "      <td>1.0</td>\n",
       "      <td>0.0</td>\n",
       "      <td>0.0</td>\n",
       "      <td>61190.55</td>\n",
       "      <td>3416.85</td>\n",
       "      <td>Alone</td>\n",
       "      <td>Commercial</td>\n",
       "      <td>Secondary</td>\n",
       "      <td>M</td>\n",
       "      <td>Male</td>\n",
       "      <td>CL</td>\n",
       "      <td>Home</td>\n",
       "      <td>0.028663</td>\n",
       "      <td>13957</td>\n",
       "      <td>1062</td>\n",
       "      <td>6123</td>\n",
       "      <td>383</td>\n",
       "      <td>NaN</td>\n",
       "      <td>1</td>\n",
       "      <td>1</td>\n",
       "      <td>0</td>\n",
       "      <td>Sales</td>\n",
       "      <td>2.0</td>\n",
       "      <td>2.0</td>\n",
       "      <td>6.0</td>\n",
       "      <td>17.0</td>\n",
       "      <td>Yes</td>\n",
       "      <td>Yes</td>\n",
       "      <td>Self-employed</td>\n",
       "      <td>0.568066</td>\n",
       "      <td>0.478787</td>\n",
       "      <td>NaN</td>\n",
       "      <td>0.0186</td>\n",
       "      <td>63.0</td>\n",
       "      <td>NaN</td>\n",
       "      <td>0</td>\n",
       "    </tr>\n",
       "    <tr>\n",
       "      <th>1</th>\n",
       "      <td>12138936</td>\n",
       "      <td>20250</td>\n",
       "      <td>1.0</td>\n",
       "      <td>0.0</td>\n",
       "      <td>1.0</td>\n",
       "      <td>NaN</td>\n",
       "      <td>0.0</td>\n",
       "      <td>15282</td>\n",
       "      <td>1826.55</td>\n",
       "      <td>Alone</td>\n",
       "      <td>Service</td>\n",
       "      <td>Graduation</td>\n",
       "      <td>M</td>\n",
       "      <td>Male</td>\n",
       "      <td>CL</td>\n",
       "      <td>Home</td>\n",
       "      <td>0.008575</td>\n",
       "      <td>14162</td>\n",
       "      <td>4129</td>\n",
       "      <td>7833</td>\n",
       "      <td>21</td>\n",
       "      <td>0.0</td>\n",
       "      <td>1</td>\n",
       "      <td>0</td>\n",
       "      <td>1</td>\n",
       "      <td>NaN</td>\n",
       "      <td>2.0</td>\n",
       "      <td>2.0</td>\n",
       "      <td>3.0</td>\n",
       "      <td>10.0</td>\n",
       "      <td>Yes</td>\n",
       "      <td>Yes</td>\n",
       "      <td>Government</td>\n",
       "      <td>0.563360</td>\n",
       "      <td>0.215068</td>\n",
       "      <td>NaN</td>\n",
       "      <td>NaN</td>\n",
       "      <td>NaN</td>\n",
       "      <td>NaN</td>\n",
       "      <td>0</td>\n",
       "    </tr>\n",
       "    <tr>\n",
       "      <th>2</th>\n",
       "      <td>12181264</td>\n",
       "      <td>18000</td>\n",
       "      <td>0.0</td>\n",
       "      <td>0.0</td>\n",
       "      <td>1.0</td>\n",
       "      <td>0.0</td>\n",
       "      <td>1.0</td>\n",
       "      <td>59527.35</td>\n",
       "      <td>2788.2</td>\n",
       "      <td>Alone</td>\n",
       "      <td>Service</td>\n",
       "      <td>Graduation dropout</td>\n",
       "      <td>W</td>\n",
       "      <td>Male</td>\n",
       "      <td>CL</td>\n",
       "      <td>Family</td>\n",
       "      <td>0.0228</td>\n",
       "      <td>16790</td>\n",
       "      <td>5102</td>\n",
       "      <td>NaN</td>\n",
       "      <td>331</td>\n",
       "      <td>NaN</td>\n",
       "      <td>1</td>\n",
       "      <td>0</td>\n",
       "      <td>0</td>\n",
       "      <td>Realty agents</td>\n",
       "      <td>2.0</td>\n",
       "      <td>2.0</td>\n",
       "      <td>4.0</td>\n",
       "      <td>NaN</td>\n",
       "      <td>Yes</td>\n",
       "      <td>Yes</td>\n",
       "      <td>Self-employed</td>\n",
       "      <td>NaN</td>\n",
       "      <td>0.552795</td>\n",
       "      <td>0.329655</td>\n",
       "      <td>0.0742</td>\n",
       "      <td>277.0</td>\n",
       "      <td>0.0</td>\n",
       "      <td>0</td>\n",
       "    </tr>\n",
       "    <tr>\n",
       "      <th>3</th>\n",
       "      <td>12188929</td>\n",
       "      <td>15750</td>\n",
       "      <td>0.0</td>\n",
       "      <td>0.0</td>\n",
       "      <td>1.0</td>\n",
       "      <td>1.0</td>\n",
       "      <td>0.0</td>\n",
       "      <td>53870.4</td>\n",
       "      <td>2295.45</td>\n",
       "      <td>Alone</td>\n",
       "      <td>Retired</td>\n",
       "      <td>Secondary</td>\n",
       "      <td>M</td>\n",
       "      <td>Male</td>\n",
       "      <td>CL</td>\n",
       "      <td>Home</td>\n",
       "      <td>0.010556</td>\n",
       "      <td>23195</td>\n",
       "      <td>365243</td>\n",
       "      <td>NaN</td>\n",
       "      <td>775</td>\n",
       "      <td>NaN</td>\n",
       "      <td>1</td>\n",
       "      <td>0</td>\n",
       "      <td>0</td>\n",
       "      <td>NaN</td>\n",
       "      <td>2.0</td>\n",
       "      <td>3.0</td>\n",
       "      <td>2.0</td>\n",
       "      <td>15.0</td>\n",
       "      <td>Yes</td>\n",
       "      <td>Yes</td>\n",
       "      <td>XNA</td>\n",
       "      <td>NaN</td>\n",
       "      <td>0.135182</td>\n",
       "      <td>0.631355</td>\n",
       "      <td>NaN</td>\n",
       "      <td>1700.0</td>\n",
       "      <td>3.0</td>\n",
       "      <td>0</td>\n",
       "    </tr>\n",
       "    <tr>\n",
       "      <th>4</th>\n",
       "      <td>12133385</td>\n",
       "      <td>33750</td>\n",
       "      <td>1.0</td>\n",
       "      <td>0.0</td>\n",
       "      <td>1.0</td>\n",
       "      <td>0.0</td>\n",
       "      <td>2.0</td>\n",
       "      <td>133988.4</td>\n",
       "      <td>3547.35</td>\n",
       "      <td>Alone</td>\n",
       "      <td>Commercial</td>\n",
       "      <td>Secondary</td>\n",
       "      <td>M</td>\n",
       "      <td>Female</td>\n",
       "      <td>CL</td>\n",
       "      <td>Home</td>\n",
       "      <td>0.020713</td>\n",
       "      <td>11366</td>\n",
       "      <td>2977</td>\n",
       "      <td>5516</td>\n",
       "      <td>4043</td>\n",
       "      <td>6.0</td>\n",
       "      <td>1</td>\n",
       "      <td>0</td>\n",
       "      <td>0</td>\n",
       "      <td>Laborers</td>\n",
       "      <td>4.0</td>\n",
       "      <td>1.0</td>\n",
       "      <td>3.0</td>\n",
       "      <td>NaN</td>\n",
       "      <td>Yes</td>\n",
       "      <td>Yes</td>\n",
       "      <td>Business Entity Type 3</td>\n",
       "      <td>0.508199</td>\n",
       "      <td>0.301182</td>\n",
       "      <td>0.355639</td>\n",
       "      <td>0.2021</td>\n",
       "      <td>674.0</td>\n",
       "      <td>1.0</td>\n",
       "      <td>0</td>\n",
       "    </tr>\n",
       "  </tbody>\n",
       "</table>\n",
       "</div>"
      ],
      "text/plain": [
       "         ID Client_Income  Car_Owned  Bike_Owned  Active_Loan  House_Own  \\\n",
       "0  12142509          6750        0.0         0.0          1.0        0.0   \n",
       "1  12138936         20250        1.0         0.0          1.0        NaN   \n",
       "2  12181264         18000        0.0         0.0          1.0        0.0   \n",
       "3  12188929         15750        0.0         0.0          1.0        1.0   \n",
       "4  12133385         33750        1.0         0.0          1.0        0.0   \n",
       "\n",
       "   Child_Count Credit_Amount Loan_Annuity Accompany_Client Client_Income_Type  \\\n",
       "0          0.0      61190.55      3416.85            Alone         Commercial   \n",
       "1          0.0         15282      1826.55            Alone            Service   \n",
       "2          1.0      59527.35       2788.2            Alone            Service   \n",
       "3          0.0       53870.4      2295.45            Alone            Retired   \n",
       "4          2.0      133988.4      3547.35            Alone         Commercial   \n",
       "\n",
       "     Client_Education Client_Marital_Status Client_Gender Loan_Contract_Type  \\\n",
       "0           Secondary                     M          Male                 CL   \n",
       "1          Graduation                     M          Male                 CL   \n",
       "2  Graduation dropout                     W          Male                 CL   \n",
       "3           Secondary                     M          Male                 CL   \n",
       "4           Secondary                     M        Female                 CL   \n",
       "\n",
       "  Client_Housing_Type Population_Region_Relative Age_Days Employed_Days  \\\n",
       "0                Home                   0.028663    13957          1062   \n",
       "1                Home                   0.008575    14162          4129   \n",
       "2              Family                     0.0228    16790          5102   \n",
       "3                Home                   0.010556    23195        365243   \n",
       "4                Home                   0.020713    11366          2977   \n",
       "\n",
       "  Registration_Days ID_Days  Own_House_Age  Mobile_Tag  Homephone_Tag  \\\n",
       "0              6123     383            NaN           1              1   \n",
       "1              7833      21            0.0           1              0   \n",
       "2               NaN     331            NaN           1              0   \n",
       "3               NaN     775            NaN           1              0   \n",
       "4              5516    4043            6.0           1              0   \n",
       "\n",
       "   Workphone_Working Client_Occupation  Client_Family_Members  \\\n",
       "0                  0             Sales                    2.0   \n",
       "1                  1               NaN                    2.0   \n",
       "2                  0     Realty agents                    2.0   \n",
       "3                  0               NaN                    2.0   \n",
       "4                  0          Laborers                    4.0   \n",
       "\n",
       "   Cleint_City_Rating  Application_Process_Day  Application_Process_Hour  \\\n",
       "0                 2.0                      6.0                      17.0   \n",
       "1                 2.0                      3.0                      10.0   \n",
       "2                 2.0                      4.0                       NaN   \n",
       "3                 3.0                      2.0                      15.0   \n",
       "4                 1.0                      3.0                       NaN   \n",
       "\n",
       "  Client_Permanent_Match_Tag Client_Contact_Work_Tag       Type_Organization  \\\n",
       "0                        Yes                     Yes           Self-employed   \n",
       "1                        Yes                     Yes              Government   \n",
       "2                        Yes                     Yes           Self-employed   \n",
       "3                        Yes                     Yes                     XNA   \n",
       "4                        Yes                     Yes  Business Entity Type 3   \n",
       "\n",
       "   Score_Source_1  Score_Source_2 Score_Source_3  Social_Circle_Default  \\\n",
       "0        0.568066        0.478787            NaN                 0.0186   \n",
       "1        0.563360        0.215068            NaN                    NaN   \n",
       "2             NaN        0.552795       0.329655                 0.0742   \n",
       "3             NaN        0.135182       0.631355                    NaN   \n",
       "4        0.508199        0.301182       0.355639                 0.2021   \n",
       "\n",
       "   Phone_Change  Credit_Bureau  Default  \n",
       "0          63.0            NaN        0  \n",
       "1           NaN            NaN        0  \n",
       "2         277.0            0.0        0  \n",
       "3        1700.0            3.0        0  \n",
       "4         674.0            1.0        0  "
      ]
     },
     "execution_count": 2,
     "metadata": {},
     "output_type": "execute_result"
    }
   ],
   "source": [
    "#Loading the dataset\n",
    "pd.set_option('display.max_columns', None)\n",
    "data = pd.read_csv(\"data/Train_Dataset.csv\")\n",
    "data.head()"
   ]
  },
  {
   "cell_type": "code",
   "execution_count": 3,
   "id": "a0720b54",
   "metadata": {},
   "outputs": [
    {
     "data": {
      "text/plain": [
       "(121856, 40)"
      ]
     },
     "execution_count": 3,
     "metadata": {},
     "output_type": "execute_result"
    }
   ],
   "source": [
    "#Data dimensions\n",
    "data.shape"
   ]
  },
  {
   "cell_type": "code",
   "execution_count": 4,
   "id": "a8f5e6e0",
   "metadata": {},
   "outputs": [],
   "source": [
    "#Asigning features to X and target to y \n",
    "#we drop ID cause it is not a feature\n",
    "X = data.drop(columns=[\"Default\", \"ID\"])\n",
    "y = data.Default"
   ]
  },
  {
   "cell_type": "code",
   "execution_count": 5,
   "id": "9370635d",
   "metadata": {},
   "outputs": [
    {
     "data": {
      "text/plain": [
       "0    0.919208\n",
       "1    0.080792\n",
       "Name: Default, dtype: float64"
      ]
     },
     "execution_count": 5,
     "metadata": {},
     "output_type": "execute_result"
    }
   ],
   "source": [
    "#1 means the client defaulted on loan payments and 0 means otherwise\n",
    "#Traget is highly imbalanced towards 0\n",
    "y.value_counts(normalize = True)"
   ]
  },
  {
   "cell_type": "code",
   "execution_count": 6,
   "id": "06a75ed7",
   "metadata": {},
   "outputs": [],
   "source": [
    "#Splitting data into train and test\n",
    "#stratify ensures there is a good representation of the classes (0 and 1 ) in train and test set\n",
    "\n",
    "X_train, X_test, y_train, y_test = train_test_split(X, y, test_size=0.2, random_state=42, stratify = y)"
   ]
  },
  {
   "cell_type": "code",
   "execution_count": 7,
   "id": "de3b2051",
   "metadata": {},
   "outputs": [
    {
     "data": {
      "text/plain": [
       "Client_Income                  object\n",
       "Car_Owned                     float64\n",
       "Bike_Owned                    float64\n",
       "Active_Loan                   float64\n",
       "House_Own                     float64\n",
       "Child_Count                   float64\n",
       "Credit_Amount                  object\n",
       "Loan_Annuity                   object\n",
       "Accompany_Client               object\n",
       "Client_Income_Type             object\n",
       "Client_Education               object\n",
       "Client_Marital_Status          object\n",
       "Client_Gender                  object\n",
       "Loan_Contract_Type             object\n",
       "Client_Housing_Type            object\n",
       "Population_Region_Relative     object\n",
       "Age_Days                       object\n",
       "Employed_Days                  object\n",
       "Registration_Days              object\n",
       "ID_Days                        object\n",
       "Own_House_Age                 float64\n",
       "Mobile_Tag                      int64\n",
       "Homephone_Tag                   int64\n",
       "Workphone_Working               int64\n",
       "Client_Occupation              object\n",
       "Client_Family_Members         float64\n",
       "Cleint_City_Rating            float64\n",
       "Application_Process_Day       float64\n",
       "Application_Process_Hour      float64\n",
       "Client_Permanent_Match_Tag     object\n",
       "Client_Contact_Work_Tag        object\n",
       "Type_Organization              object\n",
       "Score_Source_1                float64\n",
       "Score_Source_2                float64\n",
       "Score_Source_3                 object\n",
       "Social_Circle_Default         float64\n",
       "Phone_Change                  float64\n",
       "Credit_Bureau                 float64\n",
       "dtype: object"
      ]
     },
     "execution_count": 7,
     "metadata": {},
     "output_type": "execute_result"
    }
   ],
   "source": [
    "#Analyzing features types\n",
    "X_train.dtypes"
   ]
  },
  {
   "cell_type": "code",
   "execution_count": 8,
   "id": "6b590091",
   "metadata": {
    "scrolled": false
   },
   "outputs": [],
   "source": [
    "# We can not convert object values to numeric directly\n",
    "#This might be due to presence of other characters in the columsn that should be numeric\n",
    "\n",
    "#X_train[\"Client_Income\"].astype(float)"
   ]
  },
  {
   "cell_type": "code",
   "execution_count": 9,
   "id": "425010f6",
   "metadata": {},
   "outputs": [],
   "source": [
    "#We need to remove unwanted characters from numeric columns"
   ]
  },
  {
   "cell_type": "code",
   "execution_count": 10,
   "id": "541435f9",
   "metadata": {},
   "outputs": [],
   "source": [
    "num_list = X_train.select_dtypes(include=['float64','Int64']).columns.to_list()"
   ]
  },
  {
   "cell_type": "code",
   "execution_count": 11,
   "id": "90c462b7",
   "metadata": {},
   "outputs": [],
   "source": [
    "#numeric columns to fix\n",
    "col_to_fix = [\"Score_Source_2\",\n",
    "              \"Score_Source_3\", \n",
    "              \"Client_Income\", \n",
    "              \"Credit_Amount\", \n",
    "              \"Loan_Annuity\", \n",
    "              \"Age_Days\",\n",
    "              \"Employed_Days\",\n",
    "              \"Registration_Days\",\n",
    "              \"ID_Days\",\n",
    "              \"Population_Region_Relative\"\n",
    "             ]"
   ]
  },
  {
   "cell_type": "markdown",
   "id": "f6794927",
   "metadata": {},
   "source": [
    "# Building the pipeline and fixing that type!"
   ]
  },
  {
   "cell_type": "code",
   "execution_count": 12,
   "id": "85760cf7",
   "metadata": {},
   "outputs": [
    {
     "data": {
      "text/plain": [
       "'!\"#$%&\\'()*+,-/:;<=>?@[\\\\]^_`{|}~abcdefghijklmnopqrstuvwxyzABCDEFGHIJKLMNOPQRSTUVWXYZ'"
      ]
     },
     "execution_count": 12,
     "metadata": {},
     "output_type": "execute_result"
    }
   ],
   "source": [
    "string.punctuation.replace(\".\", \"\") + string.ascii_letters"
   ]
  },
  {
   "cell_type": "code",
   "execution_count": 13,
   "id": "c81c7101",
   "metadata": {},
   "outputs": [],
   "source": [
    "#we are going to remove unwanted characters from the numeric columns\n",
    "#acnd convert columns to float"
   ]
  },
  {
   "cell_type": "code",
   "execution_count": 14,
   "id": "59abf2fb",
   "metadata": {},
   "outputs": [],
   "source": [
    "def clean_df(X):\n",
    "    \n",
    "    def clean_value(value):\n",
    "        unwanted_char = string.punctuation.replace(\".\", \"\") + string.ascii_letters \n",
    "        for tag in unwanted_char:\n",
    "            value = value.replace(tag, \"\")\n",
    "        value = np.nan if not value else value\n",
    "        return float(value)\n",
    "    \n",
    "    X = pd.DataFrame(X)\n",
    "    X = X.astype(str).applymap(clean_value)\n",
    "    return X\n",
    "        "
   ]
  },
  {
   "cell_type": "code",
   "execution_count": 15,
   "id": "fb5b8d9f",
   "metadata": {},
   "outputs": [
    {
     "name": "stderr",
     "output_type": "stream",
     "text": [
      "/home/nicole-baltodano/.pyenv/versions/3.10.6/lib/python3.10/site-packages/sklearn/preprocessing/_function_transformer.py:345: UserWarning: With transform=\"pandas\", `func` should return a DataFrame to follow the set_output API.\n",
      "  warnings.warn(\n"
     ]
    }
   ],
   "source": [
    "#Create a fucntion transformer with clean_df function\n",
    "\n",
    "cleaner = FunctionTransformer(clean_df)\n",
    "\n",
    "#create column transformer for cleaner function\n",
    "\n",
    "type_cleaner = ColumnTransformer(\n",
    "    [(\"type_cleaner\", cleaner, col_to_fix)],\n",
    "    remainder = \"passthrough\").set_output(transform = \"pandas\")"
   ]
  },
  {
   "cell_type": "code",
   "execution_count": 16,
   "id": "65fc1afb",
   "metadata": {
    "scrolled": true
   },
   "outputs": [
    {
     "data": {
      "text/plain": [
       "type_cleaner__Score_Source_2                float64\n",
       "type_cleaner__Score_Source_3                float64\n",
       "type_cleaner__Client_Income                 float64\n",
       "type_cleaner__Credit_Amount                 float64\n",
       "type_cleaner__Loan_Annuity                  float64\n",
       "type_cleaner__Age_Days                      float64\n",
       "type_cleaner__Employed_Days                 float64\n",
       "type_cleaner__Registration_Days             float64\n",
       "type_cleaner__ID_Days                       float64\n",
       "type_cleaner__Population_Region_Relative    float64\n",
       "remainder__Car_Owned                        float64\n",
       "remainder__Bike_Owned                       float64\n",
       "remainder__Active_Loan                      float64\n",
       "remainder__House_Own                        float64\n",
       "remainder__Child_Count                      float64\n",
       "remainder__Accompany_Client                  object\n",
       "remainder__Client_Income_Type                object\n",
       "remainder__Client_Education                  object\n",
       "remainder__Client_Marital_Status             object\n",
       "remainder__Client_Gender                     object\n",
       "remainder__Loan_Contract_Type                object\n",
       "remainder__Client_Housing_Type               object\n",
       "remainder__Own_House_Age                    float64\n",
       "remainder__Mobile_Tag                         int64\n",
       "remainder__Homephone_Tag                      int64\n",
       "remainder__Workphone_Working                  int64\n",
       "remainder__Client_Occupation                 object\n",
       "remainder__Client_Family_Members            float64\n",
       "remainder__Cleint_City_Rating               float64\n",
       "remainder__Application_Process_Day          float64\n",
       "remainder__Application_Process_Hour         float64\n",
       "remainder__Client_Permanent_Match_Tag        object\n",
       "remainder__Client_Contact_Work_Tag           object\n",
       "remainder__Type_Organization                 object\n",
       "remainder__Score_Source_1                   float64\n",
       "remainder__Social_Circle_Default            float64\n",
       "remainder__Phone_Change                     float64\n",
       "remainder__Credit_Bureau                    float64\n",
       "dtype: object"
      ]
     },
     "execution_count": 16,
     "metadata": {},
     "output_type": "execute_result"
    }
   ],
   "source": [
    "#Lets check that the cleaning works\n",
    "#Columns type is now correct\n",
    "corrected_data = pd.DataFrame(type_cleaner.fit_transform(X_train))\n",
    "corrected_data.dtypes"
   ]
  },
  {
   "cell_type": "code",
   "execution_count": 17,
   "id": "b66ea400",
   "metadata": {},
   "outputs": [
    {
     "data": {
      "text/plain": [
       "type_cleaner__Score_Source_2                 3.747046\n",
       "type_cleaner__Score_Source_3                17.690553\n",
       "type_cleaner__Client_Income                  2.341288\n",
       "type_cleaner__Credit_Amount                  2.385603\n",
       "type_cleaner__Loan_Annuity                   3.168494\n",
       "type_cleaner__Age_Days                       2.385603\n",
       "type_cleaner__Employed_Days                  2.434841\n",
       "type_cleaner__Registration_Days              2.375755\n",
       "type_cleaner__ID_Days                        3.902967\n",
       "type_cleaner__Population_Region_Relative     3.217732\n",
       "remainder__Car_Owned                         2.321593\n",
       "remainder__Bike_Owned                        2.373293\n",
       "remainder__Active_Loan                       2.393809\n",
       "remainder__House_Own                         2.394630\n",
       "remainder__Child_Count                       2.391347\n",
       "remainder__Accompany_Client                  1.153821\n",
       "remainder__Client_Income_Type                2.434020\n",
       "remainder__Client_Education                  2.398733\n",
       "remainder__Client_Marital_Status             2.260045\n",
       "remainder__Client_Gender                     1.585478\n",
       "remainder__Loan_Contract_Type                2.411863\n",
       "remainder__Client_Housing_Type               2.422532\n",
       "remainder__Own_House_Age                    52.694164\n",
       "remainder__Mobile_Tag                        0.000000\n",
       "remainder__Homephone_Tag                     0.000000\n",
       "remainder__Workphone_Working                 0.000000\n",
       "remainder__Client_Occupation                27.163209\n",
       "remainder__Client_Family_Members             1.612559\n",
       "remainder__Cleint_City_Rating                1.582195\n",
       "remainder__Application_Process_Day           1.576451\n",
       "remainder__Application_Process_Hour          2.396271\n",
       "remainder__Client_Permanent_Match_Tag        0.000000\n",
       "remainder__Client_Contact_Work_Tag           0.000000\n",
       "remainder__Type_Organization                 2.373293\n",
       "remainder__Score_Source_1                   45.269827\n",
       "remainder__Social_Circle_Default            40.666853\n",
       "remainder__Phone_Change                      2.411043\n",
       "remainder__Credit_Bureau                    12.184874\n",
       "dtype: float64"
      ]
     },
     "execution_count": 17,
     "metadata": {},
     "output_type": "execute_result"
    }
   ],
   "source": [
    "corrected_data.isna().sum()*100/len(data)"
   ]
  },
  {
   "cell_type": "code",
   "execution_count": 18,
   "id": "58554775",
   "metadata": {},
   "outputs": [],
   "source": [
    "#pipeline for processing numerical features\n",
    "#this pipeline deals with missing values replacing them with 0 and scales numerical data\n",
    "\n",
    "num_preproc = Pipeline([\n",
    "    (\"num_imputer\", SimpleImputer(strategy = \"constant\", fill_value=0.)),\n",
    "    (\"scaler\", StandardScaler())\n",
    "])"
   ]
  },
  {
   "cell_type": "code",
   "execution_count": 19,
   "id": "59d93667",
   "metadata": {},
   "outputs": [],
   "source": [
    "#pipeline for processing categorical features: replaces nan with missing\n",
    "#For non-binary categorical features, each unique category will be converted to a separate binary column.\n",
    "#For binary categorical features (features with exactly two unique values), \n",
    "#one of the categories will be dropped (to avoid multicollinearity in linear models).\n",
    "\n",
    "cat_preproc = Pipeline([\n",
    "    (\"cat_imputer\", SimpleImputer(strategy = \"constant\", fill_value=\"Missing\")),\n",
    "    (\"ohe\", OneHotEncoder(handle_unknown = \"ignore\", sparse_output=False,drop='if_binary'))\n",
    "])"
   ]
  },
  {
   "cell_type": "code",
   "execution_count": 20,
   "id": "075e02bb",
   "metadata": {},
   "outputs": [],
   "source": [
    "#creating column transformer to combine numeric and categorical processing pipelines\n",
    "\n",
    "preproc = ColumnTransformer([\n",
    "    (\"num_tr\", num_preproc, make_column_selector(dtype_include = [\"float64\", \"int64\"])),\n",
    "    (\"cat_tr\", cat_preproc, make_column_selector(dtype_include = [\"object\"]))\n",
    "])"
   ]
  },
  {
   "cell_type": "code",
   "execution_count": 21,
   "id": "18505175",
   "metadata": {},
   "outputs": [],
   "source": [
    "#creating a cleaner and preprocessign pipeline\n",
    "\n",
    "clean_preproc = Pipeline([\n",
    "    (\"cleaner\", type_cleaner),\n",
    "    (\"preprocessing\", preproc)])"
   ]
  },
  {
   "cell_type": "code",
   "execution_count": 22,
   "id": "c4ecf120",
   "metadata": {},
   "outputs": [
    {
     "data": {
      "text/html": [
       "<style>#sk-container-id-1 {color: black;}#sk-container-id-1 pre{padding: 0;}#sk-container-id-1 div.sk-toggleable {background-color: white;}#sk-container-id-1 label.sk-toggleable__label {cursor: pointer;display: block;width: 100%;margin-bottom: 0;padding: 0.3em;box-sizing: border-box;text-align: center;}#sk-container-id-1 label.sk-toggleable__label-arrow:before {content: \"▸\";float: left;margin-right: 0.25em;color: #696969;}#sk-container-id-1 label.sk-toggleable__label-arrow:hover:before {color: black;}#sk-container-id-1 div.sk-estimator:hover label.sk-toggleable__label-arrow:before {color: black;}#sk-container-id-1 div.sk-toggleable__content {max-height: 0;max-width: 0;overflow: hidden;text-align: left;background-color: #f0f8ff;}#sk-container-id-1 div.sk-toggleable__content pre {margin: 0.2em;color: black;border-radius: 0.25em;background-color: #f0f8ff;}#sk-container-id-1 input.sk-toggleable__control:checked~div.sk-toggleable__content {max-height: 200px;max-width: 100%;overflow: auto;}#sk-container-id-1 input.sk-toggleable__control:checked~label.sk-toggleable__label-arrow:before {content: \"▾\";}#sk-container-id-1 div.sk-estimator input.sk-toggleable__control:checked~label.sk-toggleable__label {background-color: #d4ebff;}#sk-container-id-1 div.sk-label input.sk-toggleable__control:checked~label.sk-toggleable__label {background-color: #d4ebff;}#sk-container-id-1 input.sk-hidden--visually {border: 0;clip: rect(1px 1px 1px 1px);clip: rect(1px, 1px, 1px, 1px);height: 1px;margin: -1px;overflow: hidden;padding: 0;position: absolute;width: 1px;}#sk-container-id-1 div.sk-estimator {font-family: monospace;background-color: #f0f8ff;border: 1px dotted black;border-radius: 0.25em;box-sizing: border-box;margin-bottom: 0.5em;}#sk-container-id-1 div.sk-estimator:hover {background-color: #d4ebff;}#sk-container-id-1 div.sk-parallel-item::after {content: \"\";width: 100%;border-bottom: 1px solid gray;flex-grow: 1;}#sk-container-id-1 div.sk-label:hover label.sk-toggleable__label {background-color: #d4ebff;}#sk-container-id-1 div.sk-serial::before {content: \"\";position: absolute;border-left: 1px solid gray;box-sizing: border-box;top: 0;bottom: 0;left: 50%;z-index: 0;}#sk-container-id-1 div.sk-serial {display: flex;flex-direction: column;align-items: center;background-color: white;padding-right: 0.2em;padding-left: 0.2em;position: relative;}#sk-container-id-1 div.sk-item {position: relative;z-index: 1;}#sk-container-id-1 div.sk-parallel {display: flex;align-items: stretch;justify-content: center;background-color: white;position: relative;}#sk-container-id-1 div.sk-item::before, #sk-container-id-1 div.sk-parallel-item::before {content: \"\";position: absolute;border-left: 1px solid gray;box-sizing: border-box;top: 0;bottom: 0;left: 50%;z-index: -1;}#sk-container-id-1 div.sk-parallel-item {display: flex;flex-direction: column;z-index: 1;position: relative;background-color: white;}#sk-container-id-1 div.sk-parallel-item:first-child::after {align-self: flex-end;width: 50%;}#sk-container-id-1 div.sk-parallel-item:last-child::after {align-self: flex-start;width: 50%;}#sk-container-id-1 div.sk-parallel-item:only-child::after {width: 0;}#sk-container-id-1 div.sk-dashed-wrapped {border: 1px dashed gray;margin: 0 0.4em 0.5em 0.4em;box-sizing: border-box;padding-bottom: 0.4em;background-color: white;}#sk-container-id-1 div.sk-label label {font-family: monospace;font-weight: bold;display: inline-block;line-height: 1.2em;}#sk-container-id-1 div.sk-label-container {text-align: center;}#sk-container-id-1 div.sk-container {/* jupyter's `normalize.less` sets `[hidden] { display: none; }` but bootstrap.min.css set `[hidden] { display: none !important; }` so we also need the `!important` here to be able to override the default hidden behavior on the sphinx rendered scikit-learn.org. See: https://github.com/scikit-learn/scikit-learn/issues/21755 */display: inline-block !important;position: relative;}#sk-container-id-1 div.sk-text-repr-fallback {display: none;}</style><div id=\"sk-container-id-1\" class=\"sk-top-container\"><div class=\"sk-text-repr-fallback\"><pre>Pipeline(steps=[(&#x27;clean_preproc&#x27;,\n",
       "                 Pipeline(steps=[(&#x27;cleaner&#x27;,\n",
       "                                  ColumnTransformer(remainder=&#x27;passthrough&#x27;,\n",
       "                                                    transformers=[(&#x27;type_cleaner&#x27;,\n",
       "                                                                   FunctionTransformer(func=&lt;function clean_df at 0x7f72064aaef0&gt;),\n",
       "                                                                   [&#x27;Score_Source_2&#x27;,\n",
       "                                                                    &#x27;Score_Source_3&#x27;,\n",
       "                                                                    &#x27;Client_Income&#x27;,\n",
       "                                                                    &#x27;Credit_Amount&#x27;,\n",
       "                                                                    &#x27;Loan_Annuity&#x27;,\n",
       "                                                                    &#x27;Age_Days&#x27;,\n",
       "                                                                    &#x27;Employed_Days&#x27;,\n",
       "                                                                    &#x27;Registration_Days&#x27;,\n",
       "                                                                    &#x27;ID_Days&#x27;,\n",
       "                                                                    &#x27;Population_Region...\n",
       "                                                                   &lt;sklearn.compose._column_transformer.make_column_selector object at 0x7f72064dd6c0&gt;),\n",
       "                                                                  (&#x27;cat_tr&#x27;,\n",
       "                                                                   Pipeline(steps=[(&#x27;cat_imputer&#x27;,\n",
       "                                                                                    SimpleImputer(fill_value=&#x27;Missing&#x27;,\n",
       "                                                                                                  strategy=&#x27;constant&#x27;)),\n",
       "                                                                                   (&#x27;ohe&#x27;,\n",
       "                                                                                    OneHotEncoder(drop=&#x27;if_binary&#x27;,\n",
       "                                                                                                  handle_unknown=&#x27;ignore&#x27;,\n",
       "                                                                                                  sparse_output=False))]),\n",
       "                                                                   &lt;sklearn.compose._column_transformer.make_column_selector object at 0x7f72064dd5d0&gt;)]))])),\n",
       "                (&#x27;classifier&#x27;, LogisticRegression(max_iter=1000))])</pre><b>In a Jupyter environment, please rerun this cell to show the HTML representation or trust the notebook. <br />On GitHub, the HTML representation is unable to render, please try loading this page with nbviewer.org.</b></div><div class=\"sk-container\" hidden><div class=\"sk-item sk-dashed-wrapped\"><div class=\"sk-label-container\"><div class=\"sk-label sk-toggleable\"><input class=\"sk-toggleable__control sk-hidden--visually\" id=\"sk-estimator-id-1\" type=\"checkbox\" ><label for=\"sk-estimator-id-1\" class=\"sk-toggleable__label sk-toggleable__label-arrow\">Pipeline</label><div class=\"sk-toggleable__content\"><pre>Pipeline(steps=[(&#x27;clean_preproc&#x27;,\n",
       "                 Pipeline(steps=[(&#x27;cleaner&#x27;,\n",
       "                                  ColumnTransformer(remainder=&#x27;passthrough&#x27;,\n",
       "                                                    transformers=[(&#x27;type_cleaner&#x27;,\n",
       "                                                                   FunctionTransformer(func=&lt;function clean_df at 0x7f72064aaef0&gt;),\n",
       "                                                                   [&#x27;Score_Source_2&#x27;,\n",
       "                                                                    &#x27;Score_Source_3&#x27;,\n",
       "                                                                    &#x27;Client_Income&#x27;,\n",
       "                                                                    &#x27;Credit_Amount&#x27;,\n",
       "                                                                    &#x27;Loan_Annuity&#x27;,\n",
       "                                                                    &#x27;Age_Days&#x27;,\n",
       "                                                                    &#x27;Employed_Days&#x27;,\n",
       "                                                                    &#x27;Registration_Days&#x27;,\n",
       "                                                                    &#x27;ID_Days&#x27;,\n",
       "                                                                    &#x27;Population_Region...\n",
       "                                                                   &lt;sklearn.compose._column_transformer.make_column_selector object at 0x7f72064dd6c0&gt;),\n",
       "                                                                  (&#x27;cat_tr&#x27;,\n",
       "                                                                   Pipeline(steps=[(&#x27;cat_imputer&#x27;,\n",
       "                                                                                    SimpleImputer(fill_value=&#x27;Missing&#x27;,\n",
       "                                                                                                  strategy=&#x27;constant&#x27;)),\n",
       "                                                                                   (&#x27;ohe&#x27;,\n",
       "                                                                                    OneHotEncoder(drop=&#x27;if_binary&#x27;,\n",
       "                                                                                                  handle_unknown=&#x27;ignore&#x27;,\n",
       "                                                                                                  sparse_output=False))]),\n",
       "                                                                   &lt;sklearn.compose._column_transformer.make_column_selector object at 0x7f72064dd5d0&gt;)]))])),\n",
       "                (&#x27;classifier&#x27;, LogisticRegression(max_iter=1000))])</pre></div></div></div><div class=\"sk-serial\"><div class=\"sk-item\"><div class=\"sk-label-container\"><div class=\"sk-label sk-toggleable\"><input class=\"sk-toggleable__control sk-hidden--visually\" id=\"sk-estimator-id-2\" type=\"checkbox\" ><label for=\"sk-estimator-id-2\" class=\"sk-toggleable__label sk-toggleable__label-arrow\">clean_preproc: Pipeline</label><div class=\"sk-toggleable__content\"><pre>Pipeline(steps=[(&#x27;cleaner&#x27;,\n",
       "                 ColumnTransformer(remainder=&#x27;passthrough&#x27;,\n",
       "                                   transformers=[(&#x27;type_cleaner&#x27;,\n",
       "                                                  FunctionTransformer(func=&lt;function clean_df at 0x7f72064aaef0&gt;),\n",
       "                                                  [&#x27;Score_Source_2&#x27;,\n",
       "                                                   &#x27;Score_Source_3&#x27;,\n",
       "                                                   &#x27;Client_Income&#x27;,\n",
       "                                                   &#x27;Credit_Amount&#x27;,\n",
       "                                                   &#x27;Loan_Annuity&#x27;, &#x27;Age_Days&#x27;,\n",
       "                                                   &#x27;Employed_Days&#x27;,\n",
       "                                                   &#x27;Registration_Days&#x27;,\n",
       "                                                   &#x27;ID_Days&#x27;,\n",
       "                                                   &#x27;Population_Region_Relative&#x27;])])),\n",
       "                (&#x27;preprocessing&#x27;,...\n",
       "                                                  &lt;sklearn.compose._column_transformer.make_column_selector object at 0x7f72064dd6c0&gt;),\n",
       "                                                 (&#x27;cat_tr&#x27;,\n",
       "                                                  Pipeline(steps=[(&#x27;cat_imputer&#x27;,\n",
       "                                                                   SimpleImputer(fill_value=&#x27;Missing&#x27;,\n",
       "                                                                                 strategy=&#x27;constant&#x27;)),\n",
       "                                                                  (&#x27;ohe&#x27;,\n",
       "                                                                   OneHotEncoder(drop=&#x27;if_binary&#x27;,\n",
       "                                                                                 handle_unknown=&#x27;ignore&#x27;,\n",
       "                                                                                 sparse_output=False))]),\n",
       "                                                  &lt;sklearn.compose._column_transformer.make_column_selector object at 0x7f72064dd5d0&gt;)]))])</pre></div></div></div><div class=\"sk-serial\"><div class=\"sk-item sk-dashed-wrapped\"><div class=\"sk-label-container\"><div class=\"sk-label sk-toggleable\"><input class=\"sk-toggleable__control sk-hidden--visually\" id=\"sk-estimator-id-3\" type=\"checkbox\" ><label for=\"sk-estimator-id-3\" class=\"sk-toggleable__label sk-toggleable__label-arrow\">cleaner: ColumnTransformer</label><div class=\"sk-toggleable__content\"><pre>ColumnTransformer(remainder=&#x27;passthrough&#x27;,\n",
       "                  transformers=[(&#x27;type_cleaner&#x27;,\n",
       "                                 FunctionTransformer(func=&lt;function clean_df at 0x7f72064aaef0&gt;),\n",
       "                                 [&#x27;Score_Source_2&#x27;, &#x27;Score_Source_3&#x27;,\n",
       "                                  &#x27;Client_Income&#x27;, &#x27;Credit_Amount&#x27;,\n",
       "                                  &#x27;Loan_Annuity&#x27;, &#x27;Age_Days&#x27;, &#x27;Employed_Days&#x27;,\n",
       "                                  &#x27;Registration_Days&#x27;, &#x27;ID_Days&#x27;,\n",
       "                                  &#x27;Population_Region_Relative&#x27;])])</pre></div></div></div><div class=\"sk-parallel\"><div class=\"sk-parallel-item\"><div class=\"sk-item\"><div class=\"sk-label-container\"><div class=\"sk-label sk-toggleable\"><input class=\"sk-toggleable__control sk-hidden--visually\" id=\"sk-estimator-id-4\" type=\"checkbox\" ><label for=\"sk-estimator-id-4\" class=\"sk-toggleable__label sk-toggleable__label-arrow\">type_cleaner</label><div class=\"sk-toggleable__content\"><pre>[&#x27;Score_Source_2&#x27;, &#x27;Score_Source_3&#x27;, &#x27;Client_Income&#x27;, &#x27;Credit_Amount&#x27;, &#x27;Loan_Annuity&#x27;, &#x27;Age_Days&#x27;, &#x27;Employed_Days&#x27;, &#x27;Registration_Days&#x27;, &#x27;ID_Days&#x27;, &#x27;Population_Region_Relative&#x27;]</pre></div></div></div><div class=\"sk-serial\"><div class=\"sk-item\"><div class=\"sk-estimator sk-toggleable\"><input class=\"sk-toggleable__control sk-hidden--visually\" id=\"sk-estimator-id-5\" type=\"checkbox\" ><label for=\"sk-estimator-id-5\" class=\"sk-toggleable__label sk-toggleable__label-arrow\">FunctionTransformer</label><div class=\"sk-toggleable__content\"><pre>FunctionTransformer(func=&lt;function clean_df at 0x7f72064aaef0&gt;)</pre></div></div></div></div></div></div><div class=\"sk-parallel-item\"><div class=\"sk-item\"><div class=\"sk-label-container\"><div class=\"sk-label sk-toggleable\"><input class=\"sk-toggleable__control sk-hidden--visually\" id=\"sk-estimator-id-6\" type=\"checkbox\" ><label for=\"sk-estimator-id-6\" class=\"sk-toggleable__label sk-toggleable__label-arrow\">remainder</label><div class=\"sk-toggleable__content\"><pre>[&#x27;Car_Owned&#x27;, &#x27;Bike_Owned&#x27;, &#x27;Active_Loan&#x27;, &#x27;House_Own&#x27;, &#x27;Child_Count&#x27;, &#x27;Accompany_Client&#x27;, &#x27;Client_Income_Type&#x27;, &#x27;Client_Education&#x27;, &#x27;Client_Marital_Status&#x27;, &#x27;Client_Gender&#x27;, &#x27;Loan_Contract_Type&#x27;, &#x27;Client_Housing_Type&#x27;, &#x27;Own_House_Age&#x27;, &#x27;Mobile_Tag&#x27;, &#x27;Homephone_Tag&#x27;, &#x27;Workphone_Working&#x27;, &#x27;Client_Occupation&#x27;, &#x27;Client_Family_Members&#x27;, &#x27;Cleint_City_Rating&#x27;, &#x27;Application_Process_Day&#x27;, &#x27;Application_Process_Hour&#x27;, &#x27;Client_Permanent_Match_Tag&#x27;, &#x27;Client_Contact_Work_Tag&#x27;, &#x27;Type_Organization&#x27;, &#x27;Score_Source_1&#x27;, &#x27;Social_Circle_Default&#x27;, &#x27;Phone_Change&#x27;, &#x27;Credit_Bureau&#x27;]</pre></div></div></div><div class=\"sk-serial\"><div class=\"sk-item\"><div class=\"sk-estimator sk-toggleable\"><input class=\"sk-toggleable__control sk-hidden--visually\" id=\"sk-estimator-id-7\" type=\"checkbox\" ><label for=\"sk-estimator-id-7\" class=\"sk-toggleable__label sk-toggleable__label-arrow\">passthrough</label><div class=\"sk-toggleable__content\"><pre>passthrough</pre></div></div></div></div></div></div></div></div><div class=\"sk-item sk-dashed-wrapped\"><div class=\"sk-label-container\"><div class=\"sk-label sk-toggleable\"><input class=\"sk-toggleable__control sk-hidden--visually\" id=\"sk-estimator-id-8\" type=\"checkbox\" ><label for=\"sk-estimator-id-8\" class=\"sk-toggleable__label sk-toggleable__label-arrow\">preprocessing: ColumnTransformer</label><div class=\"sk-toggleable__content\"><pre>ColumnTransformer(transformers=[(&#x27;num_tr&#x27;,\n",
       "                                 Pipeline(steps=[(&#x27;num_imputer&#x27;,\n",
       "                                                  SimpleImputer(fill_value=0.0,\n",
       "                                                                strategy=&#x27;constant&#x27;)),\n",
       "                                                 (&#x27;scaler&#x27;, StandardScaler())]),\n",
       "                                 &lt;sklearn.compose._column_transformer.make_column_selector object at 0x7f72064dd6c0&gt;),\n",
       "                                (&#x27;cat_tr&#x27;,\n",
       "                                 Pipeline(steps=[(&#x27;cat_imputer&#x27;,\n",
       "                                                  SimpleImputer(fill_value=&#x27;Missing&#x27;,\n",
       "                                                                strategy=&#x27;constant&#x27;)),\n",
       "                                                 (&#x27;ohe&#x27;,\n",
       "                                                  OneHotEncoder(drop=&#x27;if_binary&#x27;,\n",
       "                                                                handle_unknown=&#x27;ignore&#x27;,\n",
       "                                                                sparse_output=False))]),\n",
       "                                 &lt;sklearn.compose._column_transformer.make_column_selector object at 0x7f72064dd5d0&gt;)])</pre></div></div></div><div class=\"sk-parallel\"><div class=\"sk-parallel-item\"><div class=\"sk-item\"><div class=\"sk-label-container\"><div class=\"sk-label sk-toggleable\"><input class=\"sk-toggleable__control sk-hidden--visually\" id=\"sk-estimator-id-9\" type=\"checkbox\" ><label for=\"sk-estimator-id-9\" class=\"sk-toggleable__label sk-toggleable__label-arrow\">num_tr</label><div class=\"sk-toggleable__content\"><pre>&lt;sklearn.compose._column_transformer.make_column_selector object at 0x7f72064dd6c0&gt;</pre></div></div></div><div class=\"sk-serial\"><div class=\"sk-item\"><div class=\"sk-serial\"><div class=\"sk-item\"><div class=\"sk-estimator sk-toggleable\"><input class=\"sk-toggleable__control sk-hidden--visually\" id=\"sk-estimator-id-10\" type=\"checkbox\" ><label for=\"sk-estimator-id-10\" class=\"sk-toggleable__label sk-toggleable__label-arrow\">SimpleImputer</label><div class=\"sk-toggleable__content\"><pre>SimpleImputer(fill_value=0.0, strategy=&#x27;constant&#x27;)</pre></div></div></div><div class=\"sk-item\"><div class=\"sk-estimator sk-toggleable\"><input class=\"sk-toggleable__control sk-hidden--visually\" id=\"sk-estimator-id-11\" type=\"checkbox\" ><label for=\"sk-estimator-id-11\" class=\"sk-toggleable__label sk-toggleable__label-arrow\">StandardScaler</label><div class=\"sk-toggleable__content\"><pre>StandardScaler()</pre></div></div></div></div></div></div></div></div><div class=\"sk-parallel-item\"><div class=\"sk-item\"><div class=\"sk-label-container\"><div class=\"sk-label sk-toggleable\"><input class=\"sk-toggleable__control sk-hidden--visually\" id=\"sk-estimator-id-12\" type=\"checkbox\" ><label for=\"sk-estimator-id-12\" class=\"sk-toggleable__label sk-toggleable__label-arrow\">cat_tr</label><div class=\"sk-toggleable__content\"><pre>&lt;sklearn.compose._column_transformer.make_column_selector object at 0x7f72064dd5d0&gt;</pre></div></div></div><div class=\"sk-serial\"><div class=\"sk-item\"><div class=\"sk-serial\"><div class=\"sk-item\"><div class=\"sk-estimator sk-toggleable\"><input class=\"sk-toggleable__control sk-hidden--visually\" id=\"sk-estimator-id-13\" type=\"checkbox\" ><label for=\"sk-estimator-id-13\" class=\"sk-toggleable__label sk-toggleable__label-arrow\">SimpleImputer</label><div class=\"sk-toggleable__content\"><pre>SimpleImputer(fill_value=&#x27;Missing&#x27;, strategy=&#x27;constant&#x27;)</pre></div></div></div><div class=\"sk-item\"><div class=\"sk-estimator sk-toggleable\"><input class=\"sk-toggleable__control sk-hidden--visually\" id=\"sk-estimator-id-14\" type=\"checkbox\" ><label for=\"sk-estimator-id-14\" class=\"sk-toggleable__label sk-toggleable__label-arrow\">OneHotEncoder</label><div class=\"sk-toggleable__content\"><pre>OneHotEncoder(drop=&#x27;if_binary&#x27;, handle_unknown=&#x27;ignore&#x27;, sparse_output=False)</pre></div></div></div></div></div></div></div></div></div></div></div></div><div class=\"sk-item\"><div class=\"sk-estimator sk-toggleable\"><input class=\"sk-toggleable__control sk-hidden--visually\" id=\"sk-estimator-id-15\" type=\"checkbox\" ><label for=\"sk-estimator-id-15\" class=\"sk-toggleable__label sk-toggleable__label-arrow\">LogisticRegression</label><div class=\"sk-toggleable__content\"><pre>LogisticRegression(max_iter=1000)</pre></div></div></div></div></div></div></div>"
      ],
      "text/plain": [
       "Pipeline(steps=[('clean_preproc',\n",
       "                 Pipeline(steps=[('cleaner',\n",
       "                                  ColumnTransformer(remainder='passthrough',\n",
       "                                                    transformers=[('type_cleaner',\n",
       "                                                                   FunctionTransformer(func=<function clean_df at 0x7f72064aaef0>),\n",
       "                                                                   ['Score_Source_2',\n",
       "                                                                    'Score_Source_3',\n",
       "                                                                    'Client_Income',\n",
       "                                                                    'Credit_Amount',\n",
       "                                                                    'Loan_Annuity',\n",
       "                                                                    'Age_Days',\n",
       "                                                                    'Employed_Days',\n",
       "                                                                    'Registration_Days',\n",
       "                                                                    'ID_Days',\n",
       "                                                                    'Population_Region...\n",
       "                                                                   <sklearn.compose._column_transformer.make_column_selector object at 0x7f72064dd6c0>),\n",
       "                                                                  ('cat_tr',\n",
       "                                                                   Pipeline(steps=[('cat_imputer',\n",
       "                                                                                    SimpleImputer(fill_value='Missing',\n",
       "                                                                                                  strategy='constant')),\n",
       "                                                                                   ('ohe',\n",
       "                                                                                    OneHotEncoder(drop='if_binary',\n",
       "                                                                                                  handle_unknown='ignore',\n",
       "                                                                                                  sparse_output=False))]),\n",
       "                                                                   <sklearn.compose._column_transformer.make_column_selector object at 0x7f72064dd5d0>)]))])),\n",
       "                ('classifier', LogisticRegression(max_iter=1000))])"
      ]
     },
     "execution_count": 22,
     "metadata": {},
     "output_type": "execute_result"
    }
   ],
   "source": [
    "#Creating the final pipeline to clean and preprocess data and fit a logistic regression model\n",
    "\n",
    "\n",
    "pipe = Pipeline([\n",
    "    (\"clean_preproc\", clean_preproc),\n",
    "    (\"classifier\", LogisticRegression(max_iter = 1000))\n",
    "])\n",
    "    \n",
    "pipe"
   ]
  },
  {
   "cell_type": "code",
   "execution_count": 23,
   "id": "83feec75",
   "metadata": {},
   "outputs": [
    {
     "name": "stderr",
     "output_type": "stream",
     "text": [
      "/home/nicole-baltodano/.pyenv/versions/3.10.6/lib/python3.10/site-packages/sklearn/preprocessing/_encoders.py:228: UserWarning: Found unknown categories in columns [1] during transform. These unknown categories will be encoded as all zeros\n",
      "  warnings.warn(\n",
      "/home/nicole-baltodano/.pyenv/versions/3.10.6/lib/python3.10/site-packages/sklearn/preprocessing/_encoders.py:228: UserWarning: Found unknown categories in columns [1] during transform. These unknown categories will be encoded as all zeros\n",
      "  warnings.warn(\n",
      "/home/nicole-baltodano/.pyenv/versions/3.10.6/lib/python3.10/site-packages/sklearn/preprocessing/_encoders.py:228: UserWarning: Found unknown categories in columns [1] during transform. These unknown categories will be encoded as all zeros\n",
      "  warnings.warn(\n",
      "/home/nicole-baltodano/.pyenv/versions/3.10.6/lib/python3.10/site-packages/sklearn/preprocessing/_encoders.py:228: UserWarning: Found unknown categories in columns [1] during transform. These unknown categories will be encoded as all zeros\n",
      "  warnings.warn(\n"
     ]
    }
   ],
   "source": [
    "# Define the scoring metrics (F1 for hihly imbalanced data)\n",
    "\n",
    "#This is our base score model\n",
    "f1_score = cross_val_score(pipe, X_train, y_train, scoring='f1').mean()\n",
    "\n",
    "accuracy_score = cross_val_score(pipe, X_train, y_train, scoring='accuracy').mean()"
   ]
  },
  {
   "cell_type": "code",
   "execution_count": 24,
   "id": "da5592e6",
   "metadata": {},
   "outputs": [
    {
     "name": "stdout",
     "output_type": "stream",
     "text": [
      "f1_score: 0.0\n",
      "accuracy 0.9192072545950432\n"
     ]
    }
   ],
   "source": [
    "# Print the results\n",
    "#f1 score is low because data is imbalanced\n",
    "print('f1_score:',f1_score)\n",
    "\n",
    "#accuracy is not a good metric for imbalanced data\n",
    "print('accuracy',accuracy_score)"
   ]
  },
  {
   "cell_type": "code",
   "execution_count": 25,
   "id": "ce6d7665",
   "metadata": {},
   "outputs": [],
   "source": [
    "#The model has a high accuracy but low f1_score this might be due to the class imbalance in the target. \n",
    "#Lets create a confusion matrix\n",
    "\n",
    "pipe.fit(X_train,y_train)\n",
    "y_pred= pipe.predict(X_test)"
   ]
  },
  {
   "cell_type": "code",
   "execution_count": 26,
   "id": "22030f0e",
   "metadata": {},
   "outputs": [
    {
     "name": "stdout",
     "output_type": "stream",
     "text": [
      "              precision    recall  f1-score   support\n",
      "\n",
      "           0       0.92      1.00      0.96     22403\n",
      "           1       0.00      0.00      0.00      1969\n",
      "\n",
      "    accuracy                           0.92     24372\n",
      "   macro avg       0.46      0.50      0.48     24372\n",
      "weighted avg       0.84      0.92      0.88     24372\n",
      "\n"
     ]
    }
   ],
   "source": [
    "#F1 score for class 1 is 0\n",
    "print(classification_report(y_test, y_pred))"
   ]
  },
  {
   "cell_type": "code",
   "execution_count": 27,
   "id": "9ff3d0e0",
   "metadata": {},
   "outputs": [
    {
     "data": {
      "image/png": "[encoded data removed]",
      "text/plain": [
       "<Figure size 640x480 with 2 Axes>"
      ]
     },
     "metadata": {},
     "output_type": "display_data"
    }
   ],
   "source": [
    "\n",
    "#create confusion matrix\n",
    "cm_display = ConfusionMatrixDisplay.from_predictions(y_test, y_pred,display_labels=['Otherwise','Defaulted'])\n",
    "\n",
    "# Show the confusion matrix\n",
    "\n",
    "plt.title('Confusion Matrix')\n",
    "plt.show()"
   ]
  },
  {
   "cell_type": "code",
   "execution_count": 28,
   "id": "0c717f48",
   "metadata": {},
   "outputs": [],
   "source": [
    "#Since the dataset is imbalanced and has more information about otherwise (0) clients the model does not predict correctly the \n",
    "#defaulted class (1). We need to deal with the imbalance to improve f1 score"
   ]
  },
  {
   "cell_type": "code",
   "execution_count": null,
   "id": "b980636c",
   "metadata": {},
   "outputs": [],
   "source": []
  },
  {
   "cell_type": "markdown",
   "id": "2a8110c2",
   "metadata": {},
   "source": [
    "# Balance the dataset"
   ]
  },
  {
   "cell_type": "code",
   "execution_count": 29,
   "id": "8c41d431",
   "metadata": {},
   "outputs": [
    {
     "name": "stderr",
     "output_type": "stream",
     "text": [
      "/home/nicole-baltodano/.pyenv/versions/3.10.6/lib/python3.10/site-packages/sklearn/preprocessing/_encoders.py:228: UserWarning: Found unknown categories in columns [1] during transform. These unknown categories will be encoded as all zeros\n",
      "  warnings.warn(\n",
      "/home/nicole-baltodano/.pyenv/versions/3.10.6/lib/python3.10/site-packages/sklearn/preprocessing/_encoders.py:228: UserWarning: Found unknown categories in columns [1] during transform. These unknown categories will be encoded as all zeros\n",
      "  warnings.warn(\n"
     ]
    },
    {
     "data": {
      "text/plain": [
       "0.0"
      ]
     },
     "execution_count": 29,
     "metadata": {},
     "output_type": "execute_result"
    }
   ],
   "source": [
    "#to deal with imbalance in cross validation stratifiedKfold was used.\n",
    "#Ensures class distribution in each fold\n",
    "\n",
    "cross_val_score(pipe, X_train, y_train, cv = StratifiedKFold(n_splits = 5),scoring='f1').mean()"
   ]
  },
  {
   "cell_type": "markdown",
   "id": "4fe2afbc",
   "metadata": {},
   "source": [
    "## Let's try a more complex model"
   ]
  },
  {
   "cell_type": "code",
   "execution_count": 30,
   "id": "ec3caa87",
   "metadata": {},
   "outputs": [],
   "source": [
    "#Changed Logistic regression classifier with random forest\n",
    "pipe_2 = Pipeline([\n",
    "    (\"cleaner\", type_cleaner),\n",
    "    (\"preprocessing\", preproc),\n",
    "    (\"classifier\", RandomForestClassifier())\n",
    "])"
   ]
  },
  {
   "cell_type": "code",
   "execution_count": 31,
   "id": "418ac356",
   "metadata": {},
   "outputs": [
    {
     "name": "stderr",
     "output_type": "stream",
     "text": [
      "/home/nicole-baltodano/.pyenv/versions/3.10.6/lib/python3.10/site-packages/sklearn/preprocessing/_encoders.py:228: UserWarning: Found unknown categories in columns [1] during transform. These unknown categories will be encoded as all zeros\n",
      "  warnings.warn(\n",
      "/home/nicole-baltodano/.pyenv/versions/3.10.6/lib/python3.10/site-packages/sklearn/preprocessing/_encoders.py:228: UserWarning: Found unknown categories in columns [1] during transform. These unknown categories will be encoded as all zeros\n",
      "  warnings.warn(\n"
     ]
    },
    {
     "data": {
      "text/plain": [
       "0.1289120981492385"
      ]
     },
     "execution_count": 31,
     "metadata": {},
     "output_type": "execute_result"
    }
   ],
   "source": [
    "#F1 score improved but it is not good enough \n",
    "cross_val_score(pipe_2, X_train, y_train, cv =  StratifiedKFold(n_splits=5), scoring = \"f1\").mean()"
   ]
  },
  {
   "cell_type": "markdown",
   "id": "5de83184",
   "metadata": {},
   "source": [
    "## Let's take the class imbalance into account"
   ]
  },
  {
   "cell_type": "code",
   "execution_count": 32,
   "id": "babbe9fa",
   "metadata": {},
   "outputs": [
    {
     "name": "stderr",
     "output_type": "stream",
     "text": [
      "/home/nicole-baltodano/.pyenv/versions/3.10.6/lib/python3.10/site-packages/sklearn/preprocessing/_encoders.py:228: UserWarning: Found unknown categories in columns [1] during transform. These unknown categories will be encoded as all zeros\n",
      "  warnings.warn(\n",
      "/home/nicole-baltodano/.pyenv/versions/3.10.6/lib/python3.10/site-packages/sklearn/preprocessing/_encoders.py:228: UserWarning: Found unknown categories in columns [1] during transform. These unknown categories will be encoded as all zeros\n",
      "  warnings.warn(\n"
     ]
    },
    {
     "data": {
      "text/plain": [
       "0.1257863875937111"
      ]
     },
     "execution_count": 32,
     "metadata": {},
     "output_type": "execute_result"
    }
   ],
   "source": [
    "#Using class_weight = \"balanced\" did not improved the scoring \n",
    "\n",
    "pipe_3 = Pipeline([\n",
    "    (\"cleaner\", type_cleaner),\n",
    "    (\"preprocessing\", preproc),\n",
    "    (\"classifier\", RandomForestClassifier(class_weight = \"balanced\"))\n",
    "])\n",
    "\n",
    "cross_val_score(pipe_3, X_train, y_train, cv = StratifiedKFold(n_splits=5), scoring = \"f1\").mean()"
   ]
  },
  {
   "cell_type": "markdown",
   "id": "32dbcd20",
   "metadata": {},
   "source": [
    "## Model Calibration"
   ]
  },
  {
   "cell_type": "code",
   "execution_count": 33,
   "id": "347ce647",
   "metadata": {},
   "outputs": [],
   "source": [
    "#Lets calibrated random forest  model"
   ]
  },
  {
   "cell_type": "code",
   "execution_count": 34,
   "id": "5d3e1be9",
   "metadata": {},
   "outputs": [
    {
     "data": {
      "text/plain": [
       "<sklearn.calibration.CalibrationDisplay at 0x7f7204e0a260>"
      ]
     },
     "execution_count": 34,
     "metadata": {},
     "output_type": "execute_result"
    },
    {
     "data": {
      "image/png": "[encoded data removed]",
      "text/plain": [
       "<Figure size 640x480 with 1 Axes>"
      ]
     },
     "metadata": {},
     "output_type": "display_data"
    }
   ],
   "source": [
    "#Fit the model pipe3\n",
    "pipe_3.fit(X_train, y_train)\n",
    "\n",
    "#predic target for X_test\n",
    "y_pred_prob = pipe_3.predict_proba(X_test)[:,1]\n",
    "\n",
    "#create calibration curve\n",
    "prob_true, prob_pred = calibration_curve(y_test, y_pred_prob, n_bins=10)\n",
    "\n",
    "#display curve\n",
    "disp = CalibrationDisplay(prob_true, prob_pred, y_pred_prob)\n",
    "disp.plot()"
   ]
  },
  {
   "cell_type": "code",
   "execution_count": 35,
   "id": "b7fe4a84",
   "metadata": {},
   "outputs": [
    {
     "name": "stderr",
     "output_type": "stream",
     "text": [
      "/home/nicole-baltodano/.pyenv/versions/3.10.6/lib/python3.10/site-packages/sklearn/preprocessing/_encoders.py:228: UserWarning: Found unknown categories in columns [1] during transform. These unknown categories will be encoded as all zeros\n",
      "  warnings.warn(\n",
      "/home/nicole-baltodano/.pyenv/versions/3.10.6/lib/python3.10/site-packages/sklearn/preprocessing/_encoders.py:228: UserWarning: Found unknown categories in columns [1] during transform. These unknown categories will be encoded as all zeros\n",
      "  warnings.warn(\n"
     ]
    },
    {
     "data": {
      "text/plain": [
       "<sklearn.calibration.CalibrationDisplay at 0x7f7204eabc10>"
      ]
     },
     "execution_count": 35,
     "metadata": {},
     "output_type": "execute_result"
    },
    {
     "data": {
      "image/png": "[encoded data removed]",
      "text/plain": [
       "<Figure size 640x480 with 1 Axes>"
      ]
     },
     "metadata": {},
     "output_type": "display_data"
    }
   ],
   "source": [
    "#now  we calibrate and fit the model again \n",
    "\n",
    "calibrated_clf = CalibratedClassifierCV(pipe_3, cv=StratifiedKFold(n_splits=5))\n",
    "\n",
    "#fit calibrated model \n",
    "calibrated_clf.fit(X_train, y_train)\n",
    "\n",
    "#predict target for test set \n",
    "y_pred_prob = calibrated_clf.predict_proba(X_test)[:,1]\n",
    "\n",
    "#redo curve \n",
    "prob_true, prob_pred = calibration_curve(y_test, y_pred_prob, n_bins=10)\n",
    "\n",
    "#display curve\n",
    "disp = CalibrationDisplay(prob_true, prob_pred, y_pred_prob)\n",
    "disp.plot()"
   ]
  },
  {
   "cell_type": "code",
   "execution_count": 36,
   "id": "e1a703a6",
   "metadata": {
    "scrolled": false
   },
   "outputs": [
    {
     "name": "stderr",
     "output_type": "stream",
     "text": [
      "/home/nicole-baltodano/.pyenv/versions/3.10.6/lib/python3.10/site-packages/sklearn/preprocessing/_encoders.py:228: UserWarning: Found unknown categories in columns [1, 4] during transform. These unknown categories will be encoded as all zeros\n",
      "  warnings.warn(\n",
      "/home/nicole-baltodano/.pyenv/versions/3.10.6/lib/python3.10/site-packages/sklearn/preprocessing/_encoders.py:228: UserWarning: Found unknown categories in columns [1] during transform. These unknown categories will be encoded as all zeros\n",
      "  warnings.warn(\n",
      "/home/nicole-baltodano/.pyenv/versions/3.10.6/lib/python3.10/site-packages/sklearn/preprocessing/_encoders.py:228: UserWarning: Found unknown categories in columns [4] during transform. These unknown categories will be encoded as all zeros\n",
      "  warnings.warn(\n",
      "/home/nicole-baltodano/.pyenv/versions/3.10.6/lib/python3.10/site-packages/sklearn/preprocessing/_encoders.py:228: UserWarning: Found unknown categories in columns [4] during transform. These unknown categories will be encoded as all zeros\n",
      "  warnings.warn(\n",
      "/home/nicole-baltodano/.pyenv/versions/3.10.6/lib/python3.10/site-packages/sklearn/preprocessing/_encoders.py:228: UserWarning: Found unknown categories in columns [1] during transform. These unknown categories will be encoded as all zeros\n",
      "  warnings.warn(\n",
      "/home/nicole-baltodano/.pyenv/versions/3.10.6/lib/python3.10/site-packages/sklearn/preprocessing/_encoders.py:228: UserWarning: Found unknown categories in columns [1] during transform. These unknown categories will be encoded as all zeros\n",
      "  warnings.warn(\n",
      "/home/nicole-baltodano/.pyenv/versions/3.10.6/lib/python3.10/site-packages/sklearn/preprocessing/_encoders.py:228: UserWarning: Found unknown categories in columns [1, 4] during transform. These unknown categories will be encoded as all zeros\n",
      "  warnings.warn(\n",
      "/home/nicole-baltodano/.pyenv/versions/3.10.6/lib/python3.10/site-packages/sklearn/preprocessing/_encoders.py:228: UserWarning: Found unknown categories in columns [1] during transform. These unknown categories will be encoded as all zeros\n",
      "  warnings.warn(\n",
      "/home/nicole-baltodano/.pyenv/versions/3.10.6/lib/python3.10/site-packages/sklearn/preprocessing/_encoders.py:228: UserWarning: Found unknown categories in columns [1] during transform. These unknown categories will be encoded as all zeros\n",
      "  warnings.warn(\n",
      "/home/nicole-baltodano/.pyenv/versions/3.10.6/lib/python3.10/site-packages/sklearn/preprocessing/_encoders.py:228: UserWarning: Found unknown categories in columns [1] during transform. These unknown categories will be encoded as all zeros\n",
      "  warnings.warn(\n",
      "/home/nicole-baltodano/.pyenv/versions/3.10.6/lib/python3.10/site-packages/sklearn/preprocessing/_encoders.py:228: UserWarning: Found unknown categories in columns [1] during transform. These unknown categories will be encoded as all zeros\n",
      "  warnings.warn(\n",
      "/home/nicole-baltodano/.pyenv/versions/3.10.6/lib/python3.10/site-packages/sklearn/preprocessing/_encoders.py:228: UserWarning: Found unknown categories in columns [1] during transform. These unknown categories will be encoded as all zeros\n",
      "  warnings.warn(\n",
      "/home/nicole-baltodano/.pyenv/versions/3.10.6/lib/python3.10/site-packages/sklearn/preprocessing/_encoders.py:228: UserWarning: Found unknown categories in columns [1] during transform. These unknown categories will be encoded as all zeros\n",
      "  warnings.warn(\n",
      "/home/nicole-baltodano/.pyenv/versions/3.10.6/lib/python3.10/site-packages/sklearn/preprocessing/_encoders.py:228: UserWarning: Found unknown categories in columns [1] during transform. These unknown categories will be encoded as all zeros\n",
      "  warnings.warn(\n",
      "/home/nicole-baltodano/.pyenv/versions/3.10.6/lib/python3.10/site-packages/sklearn/preprocessing/_encoders.py:228: UserWarning: Found unknown categories in columns [1] during transform. These unknown categories will be encoded as all zeros\n",
      "  warnings.warn(\n",
      "/home/nicole-baltodano/.pyenv/versions/3.10.6/lib/python3.10/site-packages/sklearn/preprocessing/_encoders.py:228: UserWarning: Found unknown categories in columns [1] during transform. These unknown categories will be encoded as all zeros\n",
      "  warnings.warn(\n",
      "/home/nicole-baltodano/.pyenv/versions/3.10.6/lib/python3.10/site-packages/sklearn/preprocessing/_encoders.py:228: UserWarning: Found unknown categories in columns [1] during transform. These unknown categories will be encoded as all zeros\n",
      "  warnings.warn(\n",
      "/home/nicole-baltodano/.pyenv/versions/3.10.6/lib/python3.10/site-packages/sklearn/preprocessing/_encoders.py:228: UserWarning: Found unknown categories in columns [1] during transform. These unknown categories will be encoded as all zeros\n",
      "  warnings.warn(\n",
      "/home/nicole-baltodano/.pyenv/versions/3.10.6/lib/python3.10/site-packages/sklearn/preprocessing/_encoders.py:228: UserWarning: Found unknown categories in columns [1] during transform. These unknown categories will be encoded as all zeros\n",
      "  warnings.warn(\n",
      "/home/nicole-baltodano/.pyenv/versions/3.10.6/lib/python3.10/site-packages/sklearn/preprocessing/_encoders.py:228: UserWarning: Found unknown categories in columns [1] during transform. These unknown categories will be encoded as all zeros\n",
      "  warnings.warn(\n",
      "/home/nicole-baltodano/.pyenv/versions/3.10.6/lib/python3.10/site-packages/sklearn/preprocessing/_encoders.py:228: UserWarning: Found unknown categories in columns [1] during transform. These unknown categories will be encoded as all zeros\n",
      "  warnings.warn(\n",
      "/home/nicole-baltodano/.pyenv/versions/3.10.6/lib/python3.10/site-packages/sklearn/preprocessing/_encoders.py:228: UserWarning: Found unknown categories in columns [1] during transform. These unknown categories will be encoded as all zeros\n",
      "  warnings.warn(\n",
      "/home/nicole-baltodano/.pyenv/versions/3.10.6/lib/python3.10/site-packages/sklearn/preprocessing/_encoders.py:228: UserWarning: Found unknown categories in columns [1] during transform. These unknown categories will be encoded as all zeros\n",
      "  warnings.warn(\n",
      "/home/nicole-baltodano/.pyenv/versions/3.10.6/lib/python3.10/site-packages/sklearn/preprocessing/_encoders.py:228: UserWarning: Found unknown categories in columns [1] during transform. These unknown categories will be encoded as all zeros\n",
      "  warnings.warn(\n",
      "/home/nicole-baltodano/.pyenv/versions/3.10.6/lib/python3.10/site-packages/sklearn/preprocessing/_encoders.py:228: UserWarning: Found unknown categories in columns [1] during transform. These unknown categories will be encoded as all zeros\n",
      "  warnings.warn(\n"
     ]
    },
    {
     "data": {
      "text/plain": [
       "0.2412834672022995"
      ]
     },
     "execution_count": 36,
     "metadata": {},
     "output_type": "execute_result"
    }
   ],
   "source": [
    "#Lets cross validate new calibrated model \n",
    "#f1 score improved \n",
    "cross_val_score(calibrated_clf, X_train, y_train, cv = StratifiedKFold(n_splits=5), scoring = \"f1\").mean()"
   ]
  },
  {
   "cell_type": "code",
   "execution_count": 37,
   "id": "307e06e2",
   "metadata": {},
   "outputs": [
    {
     "ename": "ValueError",
     "evalue": "X has 149 features, but ColumnTransformer is expecting 38 features as input.",
     "output_type": "error",
     "traceback": [
      "\u001b[0;31m---------------------------------------------------------------------------\u001b[0m",
      "\u001b[0;31mValueError\u001b[0m                                Traceback (most recent call last)",
      "Cell \u001b[0;32mIn [37], line 7\u001b[0m\n\u001b[1;32m      4\u001b[0m X_test_preprocessed \u001b[38;5;241m=\u001b[39m clean_preproc\u001b[38;5;241m.\u001b[39mtransform(X_test)\n\u001b[1;32m      6\u001b[0m \u001b[38;5;66;03m# Make predictions on preprocessed test data\u001b[39;00m\n\u001b[0;32m----> 7\u001b[0m y_pred \u001b[38;5;241m=\u001b[39m \u001b[43mcalibrated_clf\u001b[49m\u001b[38;5;241;43m.\u001b[39;49m\u001b[43mpredict\u001b[49m\u001b[43m(\u001b[49m\u001b[43mX_test_preprocessed\u001b[49m\u001b[43m)\u001b[49m\n",
      "File \u001b[0;32m~/.pyenv/versions/3.10.6/lib/python3.10/site-packages/sklearn/calibration.py:524\u001b[0m, in \u001b[0;36mCalibratedClassifierCV.predict\u001b[0;34m(self, X)\u001b[0m\n\u001b[1;32m    508\u001b[0m \u001b[38;5;124;03m\"\"\"Predict the target of new samples.\u001b[39;00m\n\u001b[1;32m    509\u001b[0m \n\u001b[1;32m    510\u001b[0m \u001b[38;5;124;03mThe predicted class is the class that has the highest probability,\u001b[39;00m\n\u001b[0;32m   (...)\u001b[0m\n\u001b[1;32m    521\u001b[0m \u001b[38;5;124;03m    The predicted class.\u001b[39;00m\n\u001b[1;32m    522\u001b[0m \u001b[38;5;124;03m\"\"\"\u001b[39;00m\n\u001b[1;32m    523\u001b[0m check_is_fitted(\u001b[38;5;28mself\u001b[39m)\n\u001b[0;32m--> 524\u001b[0m \u001b[38;5;28;01mreturn\u001b[39;00m \u001b[38;5;28mself\u001b[39m\u001b[38;5;241m.\u001b[39mclasses_[np\u001b[38;5;241m.\u001b[39margmax(\u001b[38;5;28;43mself\u001b[39;49m\u001b[38;5;241;43m.\u001b[39;49m\u001b[43mpredict_proba\u001b[49m\u001b[43m(\u001b[49m\u001b[43mX\u001b[49m\u001b[43m)\u001b[49m, axis\u001b[38;5;241m=\u001b[39m\u001b[38;5;241m1\u001b[39m)]\n",
      "File \u001b[0;32m~/.pyenv/versions/3.10.6/lib/python3.10/site-packages/sklearn/calibration.py:500\u001b[0m, in \u001b[0;36mCalibratedClassifierCV.predict_proba\u001b[0;34m(self, X)\u001b[0m\n\u001b[1;32m    498\u001b[0m mean_proba \u001b[38;5;241m=\u001b[39m np\u001b[38;5;241m.\u001b[39mzeros((_num_samples(X), \u001b[38;5;28mlen\u001b[39m(\u001b[38;5;28mself\u001b[39m\u001b[38;5;241m.\u001b[39mclasses_)))\n\u001b[1;32m    499\u001b[0m \u001b[38;5;28;01mfor\u001b[39;00m calibrated_classifier \u001b[38;5;129;01min\u001b[39;00m \u001b[38;5;28mself\u001b[39m\u001b[38;5;241m.\u001b[39mcalibrated_classifiers_:\n\u001b[0;32m--> 500\u001b[0m     proba \u001b[38;5;241m=\u001b[39m \u001b[43mcalibrated_classifier\u001b[49m\u001b[38;5;241;43m.\u001b[39;49m\u001b[43mpredict_proba\u001b[49m\u001b[43m(\u001b[49m\u001b[43mX\u001b[49m\u001b[43m)\u001b[49m\n\u001b[1;32m    501\u001b[0m     mean_proba \u001b[38;5;241m+\u001b[39m\u001b[38;5;241m=\u001b[39m proba\n\u001b[1;32m    503\u001b[0m mean_proba \u001b[38;5;241m/\u001b[39m\u001b[38;5;241m=\u001b[39m \u001b[38;5;28mlen\u001b[39m(\u001b[38;5;28mself\u001b[39m\u001b[38;5;241m.\u001b[39mcalibrated_classifiers_)\n",
      "File \u001b[0;32m~/.pyenv/versions/3.10.6/lib/python3.10/site-packages/sklearn/calibration.py:792\u001b[0m, in \u001b[0;36m_CalibratedClassifier.predict_proba\u001b[0;34m(self, X)\u001b[0m\n\u001b[1;32m    790\u001b[0m n_classes \u001b[38;5;241m=\u001b[39m \u001b[38;5;28mlen\u001b[39m(\u001b[38;5;28mself\u001b[39m\u001b[38;5;241m.\u001b[39mclasses)\n\u001b[1;32m    791\u001b[0m pred_method, method_name \u001b[38;5;241m=\u001b[39m _get_prediction_method(\u001b[38;5;28mself\u001b[39m\u001b[38;5;241m.\u001b[39mestimator)\n\u001b[0;32m--> 792\u001b[0m predictions \u001b[38;5;241m=\u001b[39m \u001b[43m_compute_predictions\u001b[49m\u001b[43m(\u001b[49m\u001b[43mpred_method\u001b[49m\u001b[43m,\u001b[49m\u001b[43m \u001b[49m\u001b[43mmethod_name\u001b[49m\u001b[43m,\u001b[49m\u001b[43m \u001b[49m\u001b[43mX\u001b[49m\u001b[43m,\u001b[49m\u001b[43m \u001b[49m\u001b[43mn_classes\u001b[49m\u001b[43m)\u001b[49m\n\u001b[1;32m    794\u001b[0m label_encoder \u001b[38;5;241m=\u001b[39m LabelEncoder()\u001b[38;5;241m.\u001b[39mfit(\u001b[38;5;28mself\u001b[39m\u001b[38;5;241m.\u001b[39mclasses)\n\u001b[1;32m    795\u001b[0m pos_class_indices \u001b[38;5;241m=\u001b[39m label_encoder\u001b[38;5;241m.\u001b[39mtransform(\u001b[38;5;28mself\u001b[39m\u001b[38;5;241m.\u001b[39mestimator\u001b[38;5;241m.\u001b[39mclasses_)\n",
      "File \u001b[0;32m~/.pyenv/versions/3.10.6/lib/python3.10/site-packages/sklearn/calibration.py:683\u001b[0m, in \u001b[0;36m_compute_predictions\u001b[0;34m(pred_method, method_name, X, n_classes)\u001b[0m\n\u001b[1;32m    659\u001b[0m \u001b[38;5;28;01mdef\u001b[39;00m \u001b[38;5;21m_compute_predictions\u001b[39m(pred_method, method_name, X, n_classes):\n\u001b[1;32m    660\u001b[0m     \u001b[38;5;124;03m\"\"\"Return predictions for `X` and reshape binary outputs to shape\u001b[39;00m\n\u001b[1;32m    661\u001b[0m \u001b[38;5;124;03m    (n_samples, 1).\u001b[39;00m\n\u001b[1;32m    662\u001b[0m \n\u001b[0;32m   (...)\u001b[0m\n\u001b[1;32m    681\u001b[0m \u001b[38;5;124;03m        (X.shape[0], 1).\u001b[39;00m\n\u001b[1;32m    682\u001b[0m \u001b[38;5;124;03m    \"\"\"\u001b[39;00m\n\u001b[0;32m--> 683\u001b[0m     predictions \u001b[38;5;241m=\u001b[39m \u001b[43mpred_method\u001b[49m\u001b[43m(\u001b[49m\u001b[43mX\u001b[49m\u001b[38;5;241;43m=\u001b[39;49m\u001b[43mX\u001b[49m\u001b[43m)\u001b[49m\n\u001b[1;32m    685\u001b[0m     \u001b[38;5;28;01mif\u001b[39;00m method_name \u001b[38;5;241m==\u001b[39m \u001b[38;5;124m\"\u001b[39m\u001b[38;5;124mdecision_function\u001b[39m\u001b[38;5;124m\"\u001b[39m:\n\u001b[1;32m    686\u001b[0m         \u001b[38;5;28;01mif\u001b[39;00m predictions\u001b[38;5;241m.\u001b[39mndim \u001b[38;5;241m==\u001b[39m \u001b[38;5;241m1\u001b[39m:\n",
      "File \u001b[0;32m~/.pyenv/versions/3.10.6/lib/python3.10/site-packages/sklearn/pipeline.py:584\u001b[0m, in \u001b[0;36mPipeline.predict_proba\u001b[0;34m(self, X, **predict_proba_params)\u001b[0m\n\u001b[1;32m    582\u001b[0m Xt \u001b[38;5;241m=\u001b[39m X\n\u001b[1;32m    583\u001b[0m \u001b[38;5;28;01mfor\u001b[39;00m _, name, transform \u001b[38;5;129;01min\u001b[39;00m \u001b[38;5;28mself\u001b[39m\u001b[38;5;241m.\u001b[39m_iter(with_final\u001b[38;5;241m=\u001b[39m\u001b[38;5;28;01mFalse\u001b[39;00m):\n\u001b[0;32m--> 584\u001b[0m     Xt \u001b[38;5;241m=\u001b[39m \u001b[43mtransform\u001b[49m\u001b[38;5;241;43m.\u001b[39;49m\u001b[43mtransform\u001b[49m\u001b[43m(\u001b[49m\u001b[43mXt\u001b[49m\u001b[43m)\u001b[49m\n\u001b[1;32m    585\u001b[0m \u001b[38;5;28;01mreturn\u001b[39;00m \u001b[38;5;28mself\u001b[39m\u001b[38;5;241m.\u001b[39msteps[\u001b[38;5;241m-\u001b[39m\u001b[38;5;241m1\u001b[39m][\u001b[38;5;241m1\u001b[39m]\u001b[38;5;241m.\u001b[39mpredict_proba(Xt, \u001b[38;5;241m*\u001b[39m\u001b[38;5;241m*\u001b[39mpredict_proba_params)\n",
      "File \u001b[0;32m~/.pyenv/versions/3.10.6/lib/python3.10/site-packages/sklearn/utils/_set_output.py:157\u001b[0m, in \u001b[0;36m_wrap_method_output.<locals>.wrapped\u001b[0;34m(self, X, *args, **kwargs)\u001b[0m\n\u001b[1;32m    155\u001b[0m \u001b[38;5;129m@wraps\u001b[39m(f)\n\u001b[1;32m    156\u001b[0m \u001b[38;5;28;01mdef\u001b[39;00m \u001b[38;5;21mwrapped\u001b[39m(\u001b[38;5;28mself\u001b[39m, X, \u001b[38;5;241m*\u001b[39margs, \u001b[38;5;241m*\u001b[39m\u001b[38;5;241m*\u001b[39mkwargs):\n\u001b[0;32m--> 157\u001b[0m     data_to_wrap \u001b[38;5;241m=\u001b[39m \u001b[43mf\u001b[49m\u001b[43m(\u001b[49m\u001b[38;5;28;43mself\u001b[39;49m\u001b[43m,\u001b[49m\u001b[43m \u001b[49m\u001b[43mX\u001b[49m\u001b[43m,\u001b[49m\u001b[43m \u001b[49m\u001b[38;5;241;43m*\u001b[39;49m\u001b[43margs\u001b[49m\u001b[43m,\u001b[49m\u001b[43m \u001b[49m\u001b[38;5;241;43m*\u001b[39;49m\u001b[38;5;241;43m*\u001b[39;49m\u001b[43mkwargs\u001b[49m\u001b[43m)\u001b[49m\n\u001b[1;32m    158\u001b[0m     \u001b[38;5;28;01mif\u001b[39;00m \u001b[38;5;28misinstance\u001b[39m(data_to_wrap, \u001b[38;5;28mtuple\u001b[39m):\n\u001b[1;32m    159\u001b[0m         \u001b[38;5;66;03m# only wrap the first output for cross decomposition\u001b[39;00m\n\u001b[1;32m    160\u001b[0m         return_tuple \u001b[38;5;241m=\u001b[39m (\n\u001b[1;32m    161\u001b[0m             _wrap_data_with_container(method, data_to_wrap[\u001b[38;5;241m0\u001b[39m], X, \u001b[38;5;28mself\u001b[39m),\n\u001b[1;32m    162\u001b[0m             \u001b[38;5;241m*\u001b[39mdata_to_wrap[\u001b[38;5;241m1\u001b[39m:],\n\u001b[1;32m    163\u001b[0m         )\n",
      "File \u001b[0;32m~/.pyenv/versions/3.10.6/lib/python3.10/site-packages/sklearn/compose/_column_transformer.py:825\u001b[0m, in \u001b[0;36mColumnTransformer.transform\u001b[0;34m(self, X)\u001b[0m\n\u001b[1;32m    821\u001b[0m         \u001b[38;5;28;01mraise\u001b[39;00m \u001b[38;5;167;01mValueError\u001b[39;00m(\u001b[38;5;124mf\u001b[39m\u001b[38;5;124m\"\u001b[39m\u001b[38;5;124mcolumns are missing: \u001b[39m\u001b[38;5;132;01m{\u001b[39;00mdiff\u001b[38;5;132;01m}\u001b[39;00m\u001b[38;5;124m\"\u001b[39m)\n\u001b[1;32m    822\u001b[0m \u001b[38;5;28;01melse\u001b[39;00m:\n\u001b[1;32m    823\u001b[0m     \u001b[38;5;66;03m# ndarray was used for fitting or transforming, thus we only\u001b[39;00m\n\u001b[1;32m    824\u001b[0m     \u001b[38;5;66;03m# check that n_features_in_ is consistent\u001b[39;00m\n\u001b[0;32m--> 825\u001b[0m     \u001b[38;5;28;43mself\u001b[39;49m\u001b[38;5;241;43m.\u001b[39;49m\u001b[43m_check_n_features\u001b[49m\u001b[43m(\u001b[49m\u001b[43mX\u001b[49m\u001b[43m,\u001b[49m\u001b[43m \u001b[49m\u001b[43mreset\u001b[49m\u001b[38;5;241;43m=\u001b[39;49m\u001b[38;5;28;43;01mFalse\u001b[39;49;00m\u001b[43m)\u001b[49m\n\u001b[1;32m    827\u001b[0m Xs \u001b[38;5;241m=\u001b[39m \u001b[38;5;28mself\u001b[39m\u001b[38;5;241m.\u001b[39m_fit_transform(\n\u001b[1;32m    828\u001b[0m     X,\n\u001b[1;32m    829\u001b[0m     \u001b[38;5;28;01mNone\u001b[39;00m,\n\u001b[0;32m   (...)\u001b[0m\n\u001b[1;32m    832\u001b[0m     column_as_strings\u001b[38;5;241m=\u001b[39mfit_dataframe_and_transform_dataframe,\n\u001b[1;32m    833\u001b[0m )\n\u001b[1;32m    834\u001b[0m \u001b[38;5;28mself\u001b[39m\u001b[38;5;241m.\u001b[39m_validate_output(Xs)\n",
      "File \u001b[0;32m~/.pyenv/versions/3.10.6/lib/python3.10/site-packages/sklearn/base.py:415\u001b[0m, in \u001b[0;36mBaseEstimator._check_n_features\u001b[0;34m(self, X, reset)\u001b[0m\n\u001b[1;32m    412\u001b[0m     \u001b[38;5;28;01mreturn\u001b[39;00m\n\u001b[1;32m    414\u001b[0m \u001b[38;5;28;01mif\u001b[39;00m n_features \u001b[38;5;241m!=\u001b[39m \u001b[38;5;28mself\u001b[39m\u001b[38;5;241m.\u001b[39mn_features_in_:\n\u001b[0;32m--> 415\u001b[0m     \u001b[38;5;28;01mraise\u001b[39;00m \u001b[38;5;167;01mValueError\u001b[39;00m(\n\u001b[1;32m    416\u001b[0m         \u001b[38;5;124mf\u001b[39m\u001b[38;5;124m\"\u001b[39m\u001b[38;5;124mX has \u001b[39m\u001b[38;5;132;01m{\u001b[39;00mn_features\u001b[38;5;132;01m}\u001b[39;00m\u001b[38;5;124m features, but \u001b[39m\u001b[38;5;132;01m{\u001b[39;00m\u001b[38;5;28mself\u001b[39m\u001b[38;5;241m.\u001b[39m\u001b[38;5;18m__class__\u001b[39m\u001b[38;5;241m.\u001b[39m\u001b[38;5;18m__name__\u001b[39m\u001b[38;5;132;01m}\u001b[39;00m\u001b[38;5;124m \u001b[39m\u001b[38;5;124m\"\u001b[39m\n\u001b[1;32m    417\u001b[0m         \u001b[38;5;124mf\u001b[39m\u001b[38;5;124m\"\u001b[39m\u001b[38;5;124mis expecting \u001b[39m\u001b[38;5;132;01m{\u001b[39;00m\u001b[38;5;28mself\u001b[39m\u001b[38;5;241m.\u001b[39mn_features_in_\u001b[38;5;132;01m}\u001b[39;00m\u001b[38;5;124m features as input.\u001b[39m\u001b[38;5;124m\"\u001b[39m\n\u001b[1;32m    418\u001b[0m     )\n",
      "\u001b[0;31mValueError\u001b[0m: X has 149 features, but ColumnTransformer is expecting 38 features as input."
     ]
    }
   ],
   "source": [
    "# Preprocess test data using pipe_3\n",
    "clean_preproc.fit_transform(X_train)\n",
    "\n",
    "X_test_preprocessed = clean_preproc.transform(X_test)\n",
    "\n",
    "# Make predictions on preprocessed test data\n",
    "y_pred = calibrated_clf.predict(X_test_preprocessed)"
   ]
  },
  {
   "cell_type": "code",
   "execution_count": null,
   "id": "9dfe4056",
   "metadata": {},
   "outputs": [],
   "source": [
    "print(classification_report(y_test, y_pred))"
   ]
  },
  {
   "cell_type": "markdown",
   "id": "a19969c9",
   "metadata": {},
   "source": [
    "# Next Steps"
   ]
  },
  {
   "cell_type": "markdown",
   "id": "5e08bbbb",
   "metadata": {},
   "source": [
    "We have a calibrated model, but our job is not over! If we're not satisfied with the performances we can perform:\n",
    "- Parameter Tuning (Grid Search)\n",
    "- Try even more advanced models\n",
    "- Perform Oversampling or Undersampling\n",
    "\n",
    "Let's have a quick look at the last option, by using the Imbalanced-Learn library"
   ]
  },
  {
   "cell_type": "code",
   "execution_count": null,
   "id": "00451187",
   "metadata": {},
   "outputs": [],
   "source": [
    "#!pip install imbalanced-learn"
   ]
  },
  {
   "cell_type": "code",
   "execution_count": null,
   "id": "3197cf9c",
   "metadata": {},
   "outputs": [],
   "source": [
    "#smote can not deal with strins so we have to convert all our data to numeric \n",
    "\n",
    "#first we train and fit the cleaning pipeline to train data \n",
    "X_train_preproc = pd.DataFrame(clean_preproc.fit_transform(X_train))\n",
    "\n",
    "#and then we transform the test data\n",
    "X_test_preproc = pd.DataFrame(clean_preproc.transform(X_test))"
   ]
  },
  {
   "cell_type": "code",
   "execution_count": null,
   "id": "6d71c694",
   "metadata": {
    "scrolled": true
   },
   "outputs": [],
   "source": [
    "print('X_train',X_train_preproc.shape)\n",
    "print('X_test',X_test_preproc.shape)"
   ]
  },
  {
   "cell_type": "code",
   "execution_count": null,
   "id": "7c16c1dd",
   "metadata": {},
   "outputs": [],
   "source": [
    "#target \n",
    "print('Train target',y_train.value_counts())\n",
    "print('Test target',y_test.value_counts())"
   ]
  },
  {
   "cell_type": "markdown",
   "id": "342a4b0d",
   "metadata": {},
   "source": [
    "## Oversampling - SMOTE"
   ]
  },
  {
   "cell_type": "code",
   "execution_count": null,
   "id": "ea32d408",
   "metadata": {
    "scrolled": false
   },
   "outputs": [],
   "source": [
    "#initiate smote\n",
    "\n",
    "smote = SMOTE(random_state=42)\n",
    "\n",
    "#resample features and target already cleaned and hot econded.\n",
    "X_train_res, y_train_res = smote.fit_resample(X_train_preproc, y_train)\n",
    "\n",
    "#results\n",
    "print(X_train_res.shape)\n",
    "print(y_train_res.shape)\n",
    "\n",
    "#balanced target \n",
    "y_train_res.value_counts()"
   ]
  },
  {
   "cell_type": "code",
   "execution_count": null,
   "id": "f45f2caf",
   "metadata": {
    "scrolled": true
   },
   "outputs": [],
   "source": [
    "#create a new model \n",
    "\n",
    "model = RandomForestClassifier(class_weight = \"balanced\")\n",
    "\n",
    "#cros validate model for oversample data\n",
    "cross_val_score(model, X_train_res, y_train_res, cv = StratifiedKFold(n_splits=5), scoring = \"f1\").mean()\n",
    "\n",
    "#This is the mean f1 score for class 0 and 1. Lets get f1 score for each class"
   ]
  },
  {
   "cell_type": "code",
   "execution_count": null,
   "id": "cda8e9a6",
   "metadata": {},
   "outputs": [],
   "source": [
    "# Make predictions on the test data\n",
    "model.fit(X_train_res, y_train_res)\n",
    "y_pred = model.predict(X_test_preproc)"
   ]
  },
  {
   "cell_type": "code",
   "execution_count": null,
   "id": "c840408c",
   "metadata": {},
   "outputs": [],
   "source": [
    "print(classification_report(y_test, y_pred))"
   ]
  },
  {
   "cell_type": "code",
   "execution_count": null,
   "id": "ca3ad336",
   "metadata": {},
   "outputs": [],
   "source": [
    "# Lets imrpove the performance by calibrating the model\n",
    "\n",
    "calibrated_clf = CalibratedClassifierCV(model, cv=StratifiedKFold(n_splits=5))\n",
    "calibrated_clf.fit(X_train_res, y_train_res)\n",
    "\n",
    "#predict target with calibrated model \n",
    "y_pred_prob = calibrated_clf.predict_proba(X_test_preproc)[:,1]\n",
    "\n",
    "#create and display calibration curve\n",
    "\n",
    "prob_true, prob_pred = calibration_curve(y_test, y_pred_prob, n_bins=10)\n",
    "\n",
    "disp = CalibrationDisplay(prob_true, prob_pred, y_pred_prob)\n",
    "disp.plot()"
   ]
  },
  {
   "cell_type": "code",
   "execution_count": null,
   "id": "ae91ecfc",
   "metadata": {},
   "outputs": [],
   "source": [
    "#Cros validate calibrated model with oversampled train data\n",
    "\n",
    "#F1 average is almost the same after calibrating the model \n",
    "\n",
    "cross_val_score(calibrated_clf, X_train_res, y_train_res, cv = StratifiedKFold(n_splits=5), scoring = \"f1\").mean()"
   ]
  },
  {
   "cell_type": "code",
   "execution_count": null,
   "id": "2896ca0d",
   "metadata": {},
   "outputs": [],
   "source": [
    "#Now lets create a new pipeline combining random forest classifier and calibrated classifier \n",
    "\n",
    "\n",
    "# Define your pipeline using imblearn.pipeline\n",
    "pipe_4 = ImbPipeline([\n",
    "    (\"cleaner\", type_cleaner),     # type_cleaner is already defined\n",
    "    (\"preprocessing\", preproc),    # preproc is already defined\n",
    "    (\"smote\", SMOTE(random_state=42)),  # SMOTE for oversampling\n",
    "    (\"classifier\", CalibratedClassifierCV(RandomForestClassifier(class_weight=\"balanced\"), cv=5))  # CalibratedClassifierCV after SMOTE\n",
    "])\n"
   ]
  },
  {
   "cell_type": "code",
   "execution_count": null,
   "id": "e16bb791",
   "metadata": {
    "scrolled": false
   },
   "outputs": [],
   "source": [
    "pipe_4.fit(X_train,y_train)"
   ]
  },
  {
   "cell_type": "code",
   "execution_count": null,
   "id": "2f3960e9",
   "metadata": {
    "scrolled": true
   },
   "outputs": [],
   "source": [
    "# Make predictions on the test data\n",
    "y_pred = pipe_4.predict(X_test)\n",
    "\n",
    "# Evaluate the performance of the model\n",
    "print(classification_report(y_test, y_pred))"
   ]
  },
  {
   "cell_type": "markdown",
   "id": "c0167435",
   "metadata": {},
   "source": [
    "The f1 score for the class 1 was increased up to 0.23. There is more we could do but for the moment this will do"
   ]
  },
  {
   "cell_type": "markdown",
   "id": "c17ba776",
   "metadata": {},
   "source": [
    "# Lets predic target for the new dataset"
   ]
  },
  {
   "cell_type": "code",
   "execution_count": null,
   "id": "179e5fbd",
   "metadata": {
    "scrolled": true
   },
   "outputs": [],
   "source": [
    "data_test = pd.read_csv(\"data/Test_Dataset.csv\")\n",
    "data_test.head()"
   ]
  },
  {
   "cell_type": "code",
   "execution_count": null,
   "id": "ad35cc46",
   "metadata": {},
   "outputs": [],
   "source": [
    "#Lets get the features for the new data set\n",
    "X_new = data_test.drop(columns=['ID'])"
   ]
  },
  {
   "cell_type": "code",
   "execution_count": null,
   "id": "bafdd997",
   "metadata": {},
   "outputs": [],
   "source": [
    "y_pred = pd.DataFrame(pipe_4.predict(X_new))"
   ]
  },
  {
   "cell_type": "code",
   "execution_count": null,
   "id": "2e57c568",
   "metadata": {},
   "outputs": [],
   "source": [
    "submission = data_test[['ID']].merge(pd.DataFrame(y_pred, index=data_test.index), left_index=True, right_index=True)\n",
    "submission = merged_df.rename(columns={0: 'Default'})\n",
    "submission.to_csv('submission.csv',index=None)\n"
   ]
  }
 ],
 "metadata": {
  "kernelspec": {
   "display_name": "Python 3 (ipykernel)",
   "language": "python",
   "name": "python3"
  },
  "language_info": {
   "codemirror_mode": {
    "name": "ipython",
    "version": 3
   },
   "file_extension": ".py",
   "mimetype": "text/x-python",
   "name": "python",
   "nbconvert_exporter": "python",
   "pygments_lexer": "ipython3",
   "version": "3.10.6"
  },
  "toc": {
   "base_numbering": 1,
   "nav_menu": {},
   "number_sections": true,
   "sideBar": true,
   "skip_h1_title": false,
   "title_cell": "Table of Contents",
   "title_sidebar": "Contents",
   "toc_cell": false,
   "toc_position": {},
   "toc_section_display": true,
   "toc_window_display": false
  }
 },
 "nbformat": 4,
 "nbformat_minor": 5
}
